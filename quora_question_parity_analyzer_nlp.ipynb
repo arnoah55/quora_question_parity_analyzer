{
 "cells": [
  {
   "cell_type": "markdown",
   "id": "5ff511db-508b-4e09-b5a4-652c160596e8",
   "metadata": {},
   "source": [
    "1. TEXT PRE PROCESSING - TOKENIZATION, STOP WORDS REMOVAL, STEMMING.\n",
    "2. MAKING WORD VECTORS WITH WORD2VEC.\n",
    "3. CONVERTING COLUMNS TO VECTORS.\n",
    "4. GENERATING CUSTOM FEATURES.\n",
    "5. PERFORMING OVERSAMPLING DUE TO CLASS IMBALANCE.\n",
    "6. TRAINING RANDOM FOREST CLASSIFIER, XG BOOST CLASSIFIER, RNN AND LSTM MODELS.\n",
    "7. PERFORMANCE ANALYSIS\n",
    "8. INFERENCE ON TEST\n"
   ]
  },
  {
   "cell_type": "code",
   "execution_count": 29,
   "id": "bc6333ad-fe40-4539-b950-915bfd6cb301",
   "metadata": {},
   "outputs": [],
   "source": [
    "import numpy as np\n",
    "import pandas as pd\n",
    "import matplotlib.pyplot as plt\n",
    "import seaborn as sns\n",
    "from tqdm import tqdm\n",
    "import os\n",
    "import zipfile"
   ]
  },
  {
   "cell_type": "code",
   "execution_count": 30,
   "id": "523e807b-8095-48ae-abf7-5ebd02ed5fb7",
   "metadata": {},
   "outputs": [],
   "source": [
    "import gensim\n",
    "from gensim.models import Word2Vec,KeyedVectors\n",
    "from nltk import sent_tokenize\n",
    "from gensim.utils import simple_preprocess"
   ]
  },
  {
   "cell_type": "markdown",
   "id": "2977e765-5e30-4446-bd84-a38869bc5349",
   "metadata": {},
   "source": [
    "<span style=\"font-size:20px\">Exploratory Data Analysis</span>\n"
   ]
  },
  {
   "cell_type": "code",
   "execution_count": 31,
   "id": "e1d2b05d-24b2-4dc6-aacf-6bc36dbcd559",
   "metadata": {},
   "outputs": [
    {
     "data": {
      "text/html": [
       "<div>\n",
       "<style scoped>\n",
       "    .dataframe tbody tr th:only-of-type {\n",
       "        vertical-align: middle;\n",
       "    }\n",
       "\n",
       "    .dataframe tbody tr th {\n",
       "        vertical-align: top;\n",
       "    }\n",
       "\n",
       "    .dataframe thead th {\n",
       "        text-align: right;\n",
       "    }\n",
       "</style>\n",
       "<table border=\"1\" class=\"dataframe\">\n",
       "  <thead>\n",
       "    <tr style=\"text-align: right;\">\n",
       "      <th></th>\n",
       "      <th>id</th>\n",
       "      <th>qid1</th>\n",
       "      <th>qid2</th>\n",
       "      <th>question1</th>\n",
       "      <th>question2</th>\n",
       "      <th>is_duplicate</th>\n",
       "    </tr>\n",
       "  </thead>\n",
       "  <tbody>\n",
       "    <tr>\n",
       "      <th>0</th>\n",
       "      <td>0</td>\n",
       "      <td>1</td>\n",
       "      <td>2</td>\n",
       "      <td>What is the step by step guide to invest in sh...</td>\n",
       "      <td>What is the step by step guide to invest in sh...</td>\n",
       "      <td>0</td>\n",
       "    </tr>\n",
       "    <tr>\n",
       "      <th>1</th>\n",
       "      <td>1</td>\n",
       "      <td>3</td>\n",
       "      <td>4</td>\n",
       "      <td>What is the story of Kohinoor (Koh-i-Noor) Dia...</td>\n",
       "      <td>What would happen if the Indian government sto...</td>\n",
       "      <td>0</td>\n",
       "    </tr>\n",
       "    <tr>\n",
       "      <th>2</th>\n",
       "      <td>2</td>\n",
       "      <td>5</td>\n",
       "      <td>6</td>\n",
       "      <td>How can I increase the speed of my internet co...</td>\n",
       "      <td>How can Internet speed be increased by hacking...</td>\n",
       "      <td>0</td>\n",
       "    </tr>\n",
       "    <tr>\n",
       "      <th>3</th>\n",
       "      <td>3</td>\n",
       "      <td>7</td>\n",
       "      <td>8</td>\n",
       "      <td>Why am I mentally very lonely? How can I solve...</td>\n",
       "      <td>Find the remainder when [math]23^{24}[/math] i...</td>\n",
       "      <td>0</td>\n",
       "    </tr>\n",
       "    <tr>\n",
       "      <th>4</th>\n",
       "      <td>4</td>\n",
       "      <td>9</td>\n",
       "      <td>10</td>\n",
       "      <td>Which one dissolve in water quikly sugar, salt...</td>\n",
       "      <td>Which fish would survive in salt water?</td>\n",
       "      <td>0</td>\n",
       "    </tr>\n",
       "    <tr>\n",
       "      <th>...</th>\n",
       "      <td>...</td>\n",
       "      <td>...</td>\n",
       "      <td>...</td>\n",
       "      <td>...</td>\n",
       "      <td>...</td>\n",
       "      <td>...</td>\n",
       "    </tr>\n",
       "    <tr>\n",
       "      <th>404285</th>\n",
       "      <td>404285</td>\n",
       "      <td>433578</td>\n",
       "      <td>379845</td>\n",
       "      <td>How many keywords are there in the Racket prog...</td>\n",
       "      <td>How many keywords are there in PERL Programmin...</td>\n",
       "      <td>0</td>\n",
       "    </tr>\n",
       "    <tr>\n",
       "      <th>404286</th>\n",
       "      <td>404286</td>\n",
       "      <td>18840</td>\n",
       "      <td>155606</td>\n",
       "      <td>Do you believe there is life after death?</td>\n",
       "      <td>Is it true that there is life after death?</td>\n",
       "      <td>1</td>\n",
       "    </tr>\n",
       "    <tr>\n",
       "      <th>404287</th>\n",
       "      <td>404287</td>\n",
       "      <td>537928</td>\n",
       "      <td>537929</td>\n",
       "      <td>What is one coin?</td>\n",
       "      <td>What's this coin?</td>\n",
       "      <td>0</td>\n",
       "    </tr>\n",
       "    <tr>\n",
       "      <th>404288</th>\n",
       "      <td>404288</td>\n",
       "      <td>537930</td>\n",
       "      <td>537931</td>\n",
       "      <td>What is the approx annual cost of living while...</td>\n",
       "      <td>I am having little hairfall problem but I want...</td>\n",
       "      <td>0</td>\n",
       "    </tr>\n",
       "    <tr>\n",
       "      <th>404289</th>\n",
       "      <td>404289</td>\n",
       "      <td>537932</td>\n",
       "      <td>537933</td>\n",
       "      <td>What is like to have sex with cousin?</td>\n",
       "      <td>What is it like to have sex with your cousin?</td>\n",
       "      <td>0</td>\n",
       "    </tr>\n",
       "  </tbody>\n",
       "</table>\n",
       "<p>404290 rows × 6 columns</p>\n",
       "</div>"
      ],
      "text/plain": [
       "            id    qid1    qid2  \\\n",
       "0            0       1       2   \n",
       "1            1       3       4   \n",
       "2            2       5       6   \n",
       "3            3       7       8   \n",
       "4            4       9      10   \n",
       "...        ...     ...     ...   \n",
       "404285  404285  433578  379845   \n",
       "404286  404286   18840  155606   \n",
       "404287  404287  537928  537929   \n",
       "404288  404288  537930  537931   \n",
       "404289  404289  537932  537933   \n",
       "\n",
       "                                                question1  \\\n",
       "0       What is the step by step guide to invest in sh...   \n",
       "1       What is the story of Kohinoor (Koh-i-Noor) Dia...   \n",
       "2       How can I increase the speed of my internet co...   \n",
       "3       Why am I mentally very lonely? How can I solve...   \n",
       "4       Which one dissolve in water quikly sugar, salt...   \n",
       "...                                                   ...   \n",
       "404285  How many keywords are there in the Racket prog...   \n",
       "404286          Do you believe there is life after death?   \n",
       "404287                                  What is one coin?   \n",
       "404288  What is the approx annual cost of living while...   \n",
       "404289              What is like to have sex with cousin?   \n",
       "\n",
       "                                                question2  is_duplicate  \n",
       "0       What is the step by step guide to invest in sh...             0  \n",
       "1       What would happen if the Indian government sto...             0  \n",
       "2       How can Internet speed be increased by hacking...             0  \n",
       "3       Find the remainder when [math]23^{24}[/math] i...             0  \n",
       "4                 Which fish would survive in salt water?             0  \n",
       "...                                                   ...           ...  \n",
       "404285  How many keywords are there in PERL Programmin...             0  \n",
       "404286         Is it true that there is life after death?             1  \n",
       "404287                                  What's this coin?             0  \n",
       "404288  I am having little hairfall problem but I want...             0  \n",
       "404289      What is it like to have sex with your cousin?             0  \n",
       "\n",
       "[404290 rows x 6 columns]"
      ]
     },
     "execution_count": 31,
     "metadata": {},
     "output_type": "execute_result"
    }
   ],
   "source": [
    "data = pd.read_csv(\"train.csv\")\n",
    "data"
   ]
  },
  {
   "cell_type": "code",
   "execution_count": 32,
   "id": "2cdf02ed-c828-4d20-9223-28ad836906f4",
   "metadata": {},
   "outputs": [
    {
     "data": {
      "text/plain": [
       "is_duplicate\n",
       "0    255027\n",
       "1    149263\n",
       "Name: count, dtype: int64"
      ]
     },
     "execution_count": 32,
     "metadata": {},
     "output_type": "execute_result"
    }
   ],
   "source": [
    "data[\"is_duplicate\"].value_counts()"
   ]
  },
  {
   "cell_type": "code",
   "execution_count": 33,
   "id": "3b591107-3ef5-4176-96b2-f6f6ea5055cb",
   "metadata": {},
   "outputs": [],
   "source": [
    "data.dropna(inplace = True)"
   ]
  },
  {
   "cell_type": "markdown",
   "id": "cffcb21d-65b0-4421-9d72-14a09aa54a5e",
   "metadata": {},
   "source": [
    "<span style=\"font-size:20px\">MAKING CORPUS AND CLEANING THE TEXT</span>"
   ]
  },
  {
   "cell_type": "code",
   "execution_count": 34,
   "id": "f992a917-4dc2-4478-b884-9d2c4864d405",
   "metadata": {},
   "outputs": [
    {
     "name": "stderr",
     "output_type": "stream",
     "text": [
      "100%|████████████████████████████████| 808574/808574 [00:10<00:00, 74611.99it/s]\n"
     ]
    }
   ],
   "source": [
    "corpus = data['question1'].tolist() + data['question2'].tolist()\n",
    "#corpus is now a list of all questions — first all question1, then all question2\n",
    "\n",
    "story = []\n",
    "for sent in tqdm(corpus):\n",
    "    story.append(simple_preprocess(sent))#story becomes a list of tokenized sentences (a list of word lists)"
   ]
  },
  {
   "cell_type": "code",
   "execution_count": 35,
   "id": "d7eb813f-6503-42dc-a0f7-c7b7ad04080f",
   "metadata": {},
   "outputs": [
    {
     "name": "stderr",
     "output_type": "stream",
     "text": [
      "[nltk_data] Downloading package stopwords to\n",
      "[nltk_data]     /Users/ronaldriju/nltk_data...\n",
      "[nltk_data]   Package stopwords is already up-to-date!\n",
      "100%|█████████████████████████████████| 808574/808574 [09:20<00:00, 1441.65it/s]\n"
     ]
    }
   ],
   "source": [
    "import nltk\n",
    "from nltk.stem import PorterStemmer\n",
    "from nltk.corpus import stopwords\n",
    "nltk.download(\"stopwords\")\n",
    "\n",
    "stemmer = PorterStemmer()\n",
    "def process_word_list(word_list):\n",
    "    meaningful_words = [\n",
    "        stemmer.stem(word)  # Apply stemming\n",
    "        for word in word_list\n",
    "        if word.lower() not in stopwords.words(\"english\")  # Remove stopwords\n",
    "    ]\n",
    "    return meaningful_words\n",
    "\n",
    "cleaned_story = [process_word_list(sublist) for sublist in tqdm(story)]"
   ]
  },
  {
   "cell_type": "markdown",
   "id": "b0a180a9-47cf-4f99-be9a-1760ce3556e2",
   "metadata": {},
   "source": [
    "<span style=\"font-size:20px\">Word2Vec</span>"
   ]
  },
  {
   "cell_type": "code",
   "execution_count": 36,
   "id": "7b02d5d3-695f-4193-8bf8-d52fc5b5988f",
   "metadata": {},
   "outputs": [
    {
     "data": {
      "text/plain": [
       "(20498081, 21715385)"
      ]
     },
     "execution_count": 36,
     "metadata": {},
     "output_type": "execute_result"
    }
   ],
   "source": [
    "word2vec_model = gensim.models.Word2Vec(window = 5, min_count = 2, vector_size=30)\n",
    "word2vec_model.build_vocab(cleaned_story)\n",
    "word2vec_model.train(cleaned_story,\n",
    "            total_examples = word2vec_model.corpus_count,\n",
    "            epochs = word2vec_model.epochs)"
   ]
  },
  {
   "cell_type": "code",
   "execution_count": 37,
   "id": "077ffaa3-b969-48e7-9ab5-2ee982529335",
   "metadata": {},
   "outputs": [],
   "source": [
    "data[\"Ques1_Cleaned\"] = cleaned_story[:len(data)]\n",
    "data[\"Ques2_Cleaned\"] = cleaned_story[len(data):]"
   ]
  },
  {
   "cell_type": "code",
   "execution_count": 38,
   "id": "a117a417-8797-4975-897b-15b84e9f4398",
   "metadata": {},
   "outputs": [],
   "source": [
    "sample_data = data.copy() # INITIALLY USED FOR TAKING SAMPLES OUT OF MAIN DATA\n",
    "sample_data.reset_index(inplace = True, drop = True)"
   ]
  },
  {
   "cell_type": "markdown",
   "id": "48456d14-452e-4f8e-bf9f-896f3e302e41",
   "metadata": {},
   "source": [
    "<span style=\"font-size:20px\">GENERATING CUSTOM FEATURES USING TEXT BLOB</span>"
   ]
  },
  {
   "cell_type": "markdown",
   "id": "396acdf9-5fdd-40ac-a64a-6f63e5f0e9ae",
   "metadata": {},
   "source": [
    "- AVG WORD LENGTH  \n",
    "- WORD COUNT  \n",
    "- AVG SENTENCE LENGTH  \n",
    "- FOG INDEX  \n",
    "- COMPLEX WORD COUNT\n"
   ]
  },
  {
   "cell_type": "code",
   "execution_count": 39,
   "id": "0bc0b65c-c6f6-48eb-a5c0-239f94c4e93a",
   "metadata": {},
   "outputs": [],
   "source": [
    "from textblob import TextBlob\n",
    "\n",
    "def text_analysis(word_list):\n",
    "    # Join the list of words into a text string\n",
    "    text = \" \".join(word_list)\n",
    "\n",
    "    # Create a TextBlob object\n",
    "    blob = TextBlob(text)\n",
    "\n",
    "    # Sentiment Analysis\n",
    "    polarity_score = blob.sentiment.polarity\n",
    "    subjectivity_score = blob.sentiment.subjectivity\n",
    "\n",
    "    # Word Metrics\n",
    "    word_count = len(word_list)\n",
    "    average_word_length = sum(len(word) for word in word_list) / word_count\n",
    "\n",
    "    # Sentence Metrics\n",
    "    sentence_count = len(blob.sentences)\n",
    "    average_sentence_length = word_count / sentence_count\n",
    "\n",
    "    # FOG Index\n",
    "    complex_word_count = len([word for word in word_list if len(word) > 3])\n",
    "    fog_index = 0.4 * (average_sentence_length + complex_word_count / word_count)\n",
    "\n",
    "    return np.array([average_word_length, word_count, average_sentence_length, fog_index, complex_word_count])"
   ]
  },
  {
   "cell_type": "markdown",
   "id": "d7ad1f9b-e66d-414f-95ca-cd700448b63e",
   "metadata": {},
   "source": [
    "<span style=\"font-size:20px\">CONVERTING TEXT COLUMN INTO VECTORS</span>"
   ]
  },
  {
   "cell_type": "code",
   "execution_count": 46,
   "id": "07d08387-afd6-465f-b4c6-827b6754eead",
   "metadata": {},
   "outputs": [
    {
     "name": "stdout",
     "output_type": "stream",
     "text": [
      "\n",
      "\u001b[1m[\u001b[0m\u001b[34;49mnotice\u001b[0m\u001b[1;39;49m]\u001b[0m\u001b[39;49m A new release of pip is available: \u001b[0m\u001b[31;49m23.2.1\u001b[0m\u001b[39;49m -> \u001b[0m\u001b[32;49m25.1.1\u001b[0m\n",
      "\u001b[1m[\u001b[0m\u001b[34;49mnotice\u001b[0m\u001b[1;39;49m]\u001b[0m\u001b[39;49m To update, run: \u001b[0m\u001b[32;49mpython -m pip install --upgrade pip\u001b[0m\n",
      "Note: you may need to restart the kernel to use updated packages.\n",
      "Sentiment(polarity=0.0, subjectivity=1.0)\n"
     ]
    },
    {
     "name": "stderr",
     "output_type": "stream",
     "text": [
      "[nltk_data] Downloading package brown to\n",
      "[nltk_data]     /Users/ronaldriju/nltk_data...\n",
      "[nltk_data]   Package brown is already up-to-date!\n",
      "[nltk_data] Downloading package punkt_tab to\n",
      "[nltk_data]     /Users/ronaldriju/nltk_data...\n",
      "[nltk_data]   Package punkt_tab is already up-to-date!\n",
      "[nltk_data] Downloading package wordnet to\n",
      "[nltk_data]     /Users/ronaldriju/nltk_data...\n",
      "[nltk_data]   Package wordnet is already up-to-date!\n",
      "[nltk_data] Downloading package averaged_perceptron_tagger_eng to\n",
      "[nltk_data]     /Users/ronaldriju/nltk_data...\n",
      "[nltk_data]   Package averaged_perceptron_tagger_eng is already up-to-\n",
      "[nltk_data]       date!\n",
      "[nltk_data] Downloading package conll2000 to\n",
      "[nltk_data]     /Users/ronaldriju/nltk_data...\n",
      "[nltk_data]   Package conll2000 is already up-to-date!\n",
      "[nltk_data] Downloading package movie_reviews to\n",
      "[nltk_data]     /Users/ronaldriju/nltk_data...\n",
      "[nltk_data]   Package movie_reviews is already up-to-date!\n",
      "100%|█████████████████████████████████| 404287/404287 [03:17<00:00, 2050.30it/s]\n"
     ]
    }
   ],
   "source": [
    "# 1) Make sure TextBlob is installed\n",
    "%pip install -q textblob\n",
    "\n",
    "# 2) Download *exactly* the corpora TextBlob needs\n",
    "from textblob import download_corpora\n",
    "download_corpora.download_all()\n",
    "\n",
    "# 3) Sanity‑check: should print a polarity / subjectivity tuple without errors\n",
    "from textblob import TextBlob\n",
    "print(TextBlob(\"It finally works!\").sentiment)\n",
    "\n",
    "\n",
    "\n",
    "vec1 = np.zeros((len(sample_data), 30))\n",
    "vec2 = np.zeros((len(sample_data), 30))\n",
    "other_features = np.zeros((len(sample_data), 10))\n",
    "\n",
    "for i in tqdm(range(len(sample_data))):\n",
    "\n",
    "    text1 = sample_data[\"Ques1_Cleaned\"][i]\n",
    "    text2 = sample_data[\"Ques2_Cleaned\"][i]   #Word2Vec Vector Averaging\n",
    "\n",
    "    if len(text1) != 0:\n",
    "        vec1[i] = (sum([word2vec_model.wv[word] for word in text1 if word in word2vec_model.wv.index_to_key]) / len(text1))\n",
    "        blob1 = text_analysis(text1)\n",
    "    else:\n",
    "        vec1[i] = np.zeros((30,))\n",
    "        blob1 = np.zeros((5,))\n",
    "    if len(text2) != 0:\n",
    "        vec2[i] = (sum([word2vec_model.wv[word] for word in text2 if word in word2vec_model.wv.index_to_key]) / len(text2))\n",
    "        blob2 = text_analysis(text2)\n",
    "    else:\n",
    "        vec2[i] = np.zeros((30,))\n",
    "        blob2 = np.zeros((5,))\n",
    "    other_features[i] = np.concatenate([blob1, blob2])"
   ]
  },
  {
   "cell_type": "code",
   "execution_count": 47,
   "id": "372ccc9b-b0b4-4b1f-9ed2-bd4b39d77135",
   "metadata": {},
   "outputs": [
    {
     "data": {
      "text/html": [
       "<div>\n",
       "<style scoped>\n",
       "    .dataframe tbody tr th:only-of-type {\n",
       "        vertical-align: middle;\n",
       "    }\n",
       "\n",
       "    .dataframe tbody tr th {\n",
       "        vertical-align: top;\n",
       "    }\n",
       "\n",
       "    .dataframe thead th {\n",
       "        text-align: right;\n",
       "    }\n",
       "</style>\n",
       "<table border=\"1\" class=\"dataframe\">\n",
       "  <thead>\n",
       "    <tr style=\"text-align: right;\">\n",
       "      <th></th>\n",
       "      <th>id</th>\n",
       "      <th>qid1</th>\n",
       "      <th>qid2</th>\n",
       "      <th>question1</th>\n",
       "      <th>question2</th>\n",
       "      <th>is_duplicate</th>\n",
       "      <th>Ques1_Cleaned</th>\n",
       "      <th>Ques2_Cleaned</th>\n",
       "      <th>0</th>\n",
       "      <th>1</th>\n",
       "      <th>...</th>\n",
       "      <th>60</th>\n",
       "      <th>61</th>\n",
       "      <th>62</th>\n",
       "      <th>63</th>\n",
       "      <th>64</th>\n",
       "      <th>65</th>\n",
       "      <th>66</th>\n",
       "      <th>67</th>\n",
       "      <th>68</th>\n",
       "      <th>69</th>\n",
       "    </tr>\n",
       "  </thead>\n",
       "  <tbody>\n",
       "    <tr>\n",
       "      <th>0</th>\n",
       "      <td>0</td>\n",
       "      <td>1</td>\n",
       "      <td>2</td>\n",
       "      <td>What is the step by step guide to invest in sh...</td>\n",
       "      <td>What is the step by step guide to invest in sh...</td>\n",
       "      <td>0</td>\n",
       "      <td>[step, step, guid, invest, share, market, india]</td>\n",
       "      <td>[step, step, guid, invest, share, market]</td>\n",
       "      <td>-0.457389</td>\n",
       "      <td>-0.950082</td>\n",
       "      <td>...</td>\n",
       "      <td>4.857143</td>\n",
       "      <td>7.0</td>\n",
       "      <td>7.0</td>\n",
       "      <td>3.200000</td>\n",
       "      <td>7.0</td>\n",
       "      <td>4.833333</td>\n",
       "      <td>6.0</td>\n",
       "      <td>6.0</td>\n",
       "      <td>2.800000</td>\n",
       "      <td>6.0</td>\n",
       "    </tr>\n",
       "    <tr>\n",
       "      <th>1</th>\n",
       "      <td>1</td>\n",
       "      <td>3</td>\n",
       "      <td>4</td>\n",
       "      <td>What is the story of Kohinoor (Koh-i-Noor) Dia...</td>\n",
       "      <td>What would happen if the Indian government sto...</td>\n",
       "      <td>0</td>\n",
       "      <td>[stori, kohinoor, koh, noor, diamond]</td>\n",
       "      <td>[would, happen, indian, govern, stole, kohinoo...</td>\n",
       "      <td>0.028696</td>\n",
       "      <td>-0.631941</td>\n",
       "      <td>...</td>\n",
       "      <td>5.400000</td>\n",
       "      <td>5.0</td>\n",
       "      <td>5.0</td>\n",
       "      <td>2.320000</td>\n",
       "      <td>4.0</td>\n",
       "      <td>5.400000</td>\n",
       "      <td>10.0</td>\n",
       "      <td>10.0</td>\n",
       "      <td>4.360000</td>\n",
       "      <td>9.0</td>\n",
       "    </tr>\n",
       "    <tr>\n",
       "      <th>2</th>\n",
       "      <td>2</td>\n",
       "      <td>5</td>\n",
       "      <td>6</td>\n",
       "      <td>How can I increase the speed of my internet co...</td>\n",
       "      <td>How can Internet speed be increased by hacking...</td>\n",
       "      <td>0</td>\n",
       "      <td>[increas, speed, internet, connect, use, vpn]</td>\n",
       "      <td>[internet, speed, increas, hack, dn]</td>\n",
       "      <td>0.476042</td>\n",
       "      <td>-0.711223</td>\n",
       "      <td>...</td>\n",
       "      <td>5.500000</td>\n",
       "      <td>6.0</td>\n",
       "      <td>6.0</td>\n",
       "      <td>2.666667</td>\n",
       "      <td>4.0</td>\n",
       "      <td>5.200000</td>\n",
       "      <td>5.0</td>\n",
       "      <td>5.0</td>\n",
       "      <td>2.320000</td>\n",
       "      <td>4.0</td>\n",
       "    </tr>\n",
       "    <tr>\n",
       "      <th>3</th>\n",
       "      <td>3</td>\n",
       "      <td>7</td>\n",
       "      <td>8</td>\n",
       "      <td>Why am I mentally very lonely? How can I solve...</td>\n",
       "      <td>Find the remainder when [math]23^{24}[/math] i...</td>\n",
       "      <td>0</td>\n",
       "      <td>[mental, lone, solv]</td>\n",
       "      <td>[find, remaind, math, math, divid]</td>\n",
       "      <td>0.698351</td>\n",
       "      <td>-1.951560</td>\n",
       "      <td>...</td>\n",
       "      <td>4.666667</td>\n",
       "      <td>3.0</td>\n",
       "      <td>3.0</td>\n",
       "      <td>1.600000</td>\n",
       "      <td>3.0</td>\n",
       "      <td>4.800000</td>\n",
       "      <td>5.0</td>\n",
       "      <td>5.0</td>\n",
       "      <td>2.400000</td>\n",
       "      <td>5.0</td>\n",
       "    </tr>\n",
       "    <tr>\n",
       "      <th>4</th>\n",
       "      <td>4</td>\n",
       "      <td>9</td>\n",
       "      <td>10</td>\n",
       "      <td>Which one dissolve in water quikly sugar, salt...</td>\n",
       "      <td>Which fish would survive in salt water?</td>\n",
       "      <td>0</td>\n",
       "      <td>[one, dissolv, water, quikli, sugar, salt, met...</td>\n",
       "      <td>[fish, would, surviv, salt, water]</td>\n",
       "      <td>0.176075</td>\n",
       "      <td>0.018767</td>\n",
       "      <td>...</td>\n",
       "      <td>4.800000</td>\n",
       "      <td>10.0</td>\n",
       "      <td>10.0</td>\n",
       "      <td>4.320000</td>\n",
       "      <td>8.0</td>\n",
       "      <td>4.800000</td>\n",
       "      <td>5.0</td>\n",
       "      <td>5.0</td>\n",
       "      <td>2.400000</td>\n",
       "      <td>5.0</td>\n",
       "    </tr>\n",
       "    <tr>\n",
       "      <th>...</th>\n",
       "      <td>...</td>\n",
       "      <td>...</td>\n",
       "      <td>...</td>\n",
       "      <td>...</td>\n",
       "      <td>...</td>\n",
       "      <td>...</td>\n",
       "      <td>...</td>\n",
       "      <td>...</td>\n",
       "      <td>...</td>\n",
       "      <td>...</td>\n",
       "      <td>...</td>\n",
       "      <td>...</td>\n",
       "      <td>...</td>\n",
       "      <td>...</td>\n",
       "      <td>...</td>\n",
       "      <td>...</td>\n",
       "      <td>...</td>\n",
       "      <td>...</td>\n",
       "      <td>...</td>\n",
       "      <td>...</td>\n",
       "      <td>...</td>\n",
       "    </tr>\n",
       "    <tr>\n",
       "      <th>404282</th>\n",
       "      <td>404285</td>\n",
       "      <td>433578</td>\n",
       "      <td>379845</td>\n",
       "      <td>How many keywords are there in the Racket prog...</td>\n",
       "      <td>How many keywords are there in PERL Programmin...</td>\n",
       "      <td>0</td>\n",
       "      <td>[mani, keyword, racket, program, languag, late...</td>\n",
       "      <td>[mani, keyword, perl, program, languag, latest...</td>\n",
       "      <td>0.643033</td>\n",
       "      <td>0.521733</td>\n",
       "      <td>...</td>\n",
       "      <td>6.285714</td>\n",
       "      <td>7.0</td>\n",
       "      <td>7.0</td>\n",
       "      <td>3.200000</td>\n",
       "      <td>7.0</td>\n",
       "      <td>6.000000</td>\n",
       "      <td>7.0</td>\n",
       "      <td>7.0</td>\n",
       "      <td>3.200000</td>\n",
       "      <td>7.0</td>\n",
       "    </tr>\n",
       "    <tr>\n",
       "      <th>404283</th>\n",
       "      <td>404286</td>\n",
       "      <td>18840</td>\n",
       "      <td>155606</td>\n",
       "      <td>Do you believe there is life after death?</td>\n",
       "      <td>Is it true that there is life after death?</td>\n",
       "      <td>1</td>\n",
       "      <td>[believ, life, death]</td>\n",
       "      <td>[true, life, death]</td>\n",
       "      <td>2.065604</td>\n",
       "      <td>-2.099378</td>\n",
       "      <td>...</td>\n",
       "      <td>5.000000</td>\n",
       "      <td>3.0</td>\n",
       "      <td>3.0</td>\n",
       "      <td>1.600000</td>\n",
       "      <td>3.0</td>\n",
       "      <td>4.333333</td>\n",
       "      <td>3.0</td>\n",
       "      <td>3.0</td>\n",
       "      <td>1.600000</td>\n",
       "      <td>3.0</td>\n",
       "    </tr>\n",
       "    <tr>\n",
       "      <th>404284</th>\n",
       "      <td>404287</td>\n",
       "      <td>537928</td>\n",
       "      <td>537929</td>\n",
       "      <td>What is one coin?</td>\n",
       "      <td>What's this coin?</td>\n",
       "      <td>0</td>\n",
       "      <td>[one, coin]</td>\n",
       "      <td>[coin]</td>\n",
       "      <td>2.110967</td>\n",
       "      <td>-0.411916</td>\n",
       "      <td>...</td>\n",
       "      <td>3.500000</td>\n",
       "      <td>2.0</td>\n",
       "      <td>2.0</td>\n",
       "      <td>1.000000</td>\n",
       "      <td>1.0</td>\n",
       "      <td>4.000000</td>\n",
       "      <td>1.0</td>\n",
       "      <td>1.0</td>\n",
       "      <td>0.800000</td>\n",
       "      <td>1.0</td>\n",
       "    </tr>\n",
       "    <tr>\n",
       "      <th>404285</th>\n",
       "      <td>404288</td>\n",
       "      <td>537930</td>\n",
       "      <td>537931</td>\n",
       "      <td>What is the approx annual cost of living while...</td>\n",
       "      <td>I am having little hairfall problem but I want...</td>\n",
       "      <td>0</td>\n",
       "      <td>[approx, annual, cost, live, studi, uic, chica...</td>\n",
       "      <td>[littl, hairfal, problem, want, use, hair, sty...</td>\n",
       "      <td>0.434945</td>\n",
       "      <td>-0.387113</td>\n",
       "      <td>...</td>\n",
       "      <td>5.333333</td>\n",
       "      <td>9.0</td>\n",
       "      <td>9.0</td>\n",
       "      <td>3.955556</td>\n",
       "      <td>8.0</td>\n",
       "      <td>4.692308</td>\n",
       "      <td>13.0</td>\n",
       "      <td>13.0</td>\n",
       "      <td>5.476923</td>\n",
       "      <td>9.0</td>\n",
       "    </tr>\n",
       "    <tr>\n",
       "      <th>404286</th>\n",
       "      <td>404289</td>\n",
       "      <td>537932</td>\n",
       "      <td>537933</td>\n",
       "      <td>What is like to have sex with cousin?</td>\n",
       "      <td>What is it like to have sex with your cousin?</td>\n",
       "      <td>0</td>\n",
       "      <td>[like, sex, cousin]</td>\n",
       "      <td>[like, sex, cousin]</td>\n",
       "      <td>-0.155448</td>\n",
       "      <td>-0.140235</td>\n",
       "      <td>...</td>\n",
       "      <td>4.333333</td>\n",
       "      <td>3.0</td>\n",
       "      <td>3.0</td>\n",
       "      <td>1.466667</td>\n",
       "      <td>2.0</td>\n",
       "      <td>4.333333</td>\n",
       "      <td>3.0</td>\n",
       "      <td>3.0</td>\n",
       "      <td>1.466667</td>\n",
       "      <td>2.0</td>\n",
       "    </tr>\n",
       "  </tbody>\n",
       "</table>\n",
       "<p>404287 rows × 78 columns</p>\n",
       "</div>"
      ],
      "text/plain": [
       "            id    qid1    qid2  \\\n",
       "0            0       1       2   \n",
       "1            1       3       4   \n",
       "2            2       5       6   \n",
       "3            3       7       8   \n",
       "4            4       9      10   \n",
       "...        ...     ...     ...   \n",
       "404282  404285  433578  379845   \n",
       "404283  404286   18840  155606   \n",
       "404284  404287  537928  537929   \n",
       "404285  404288  537930  537931   \n",
       "404286  404289  537932  537933   \n",
       "\n",
       "                                                question1  \\\n",
       "0       What is the step by step guide to invest in sh...   \n",
       "1       What is the story of Kohinoor (Koh-i-Noor) Dia...   \n",
       "2       How can I increase the speed of my internet co...   \n",
       "3       Why am I mentally very lonely? How can I solve...   \n",
       "4       Which one dissolve in water quikly sugar, salt...   \n",
       "...                                                   ...   \n",
       "404282  How many keywords are there in the Racket prog...   \n",
       "404283          Do you believe there is life after death?   \n",
       "404284                                  What is one coin?   \n",
       "404285  What is the approx annual cost of living while...   \n",
       "404286              What is like to have sex with cousin?   \n",
       "\n",
       "                                                question2  is_duplicate  \\\n",
       "0       What is the step by step guide to invest in sh...             0   \n",
       "1       What would happen if the Indian government sto...             0   \n",
       "2       How can Internet speed be increased by hacking...             0   \n",
       "3       Find the remainder when [math]23^{24}[/math] i...             0   \n",
       "4                 Which fish would survive in salt water?             0   \n",
       "...                                                   ...           ...   \n",
       "404282  How many keywords are there in PERL Programmin...             0   \n",
       "404283         Is it true that there is life after death?             1   \n",
       "404284                                  What's this coin?             0   \n",
       "404285  I am having little hairfall problem but I want...             0   \n",
       "404286      What is it like to have sex with your cousin?             0   \n",
       "\n",
       "                                            Ques1_Cleaned  \\\n",
       "0        [step, step, guid, invest, share, market, india]   \n",
       "1                   [stori, kohinoor, koh, noor, diamond]   \n",
       "2           [increas, speed, internet, connect, use, vpn]   \n",
       "3                                    [mental, lone, solv]   \n",
       "4       [one, dissolv, water, quikli, sugar, salt, met...   \n",
       "...                                                   ...   \n",
       "404282  [mani, keyword, racket, program, languag, late...   \n",
       "404283                              [believ, life, death]   \n",
       "404284                                        [one, coin]   \n",
       "404285  [approx, annual, cost, live, studi, uic, chica...   \n",
       "404286                                [like, sex, cousin]   \n",
       "\n",
       "                                            Ques2_Cleaned         0         1  \\\n",
       "0               [step, step, guid, invest, share, market] -0.457389 -0.950082   \n",
       "1       [would, happen, indian, govern, stole, kohinoo...  0.028696 -0.631941   \n",
       "2                    [internet, speed, increas, hack, dn]  0.476042 -0.711223   \n",
       "3                      [find, remaind, math, math, divid]  0.698351 -1.951560   \n",
       "4                      [fish, would, surviv, salt, water]  0.176075  0.018767   \n",
       "...                                                   ...       ...       ...   \n",
       "404282  [mani, keyword, perl, program, languag, latest...  0.643033  0.521733   \n",
       "404283                                [true, life, death]  2.065604 -2.099378   \n",
       "404284                                             [coin]  2.110967 -0.411916   \n",
       "404285  [littl, hairfal, problem, want, use, hair, sty...  0.434945 -0.387113   \n",
       "404286                                [like, sex, cousin] -0.155448 -0.140235   \n",
       "\n",
       "        ...        60    61    62        63   64        65    66    67  \\\n",
       "0       ...  4.857143   7.0   7.0  3.200000  7.0  4.833333   6.0   6.0   \n",
       "1       ...  5.400000   5.0   5.0  2.320000  4.0  5.400000  10.0  10.0   \n",
       "2       ...  5.500000   6.0   6.0  2.666667  4.0  5.200000   5.0   5.0   \n",
       "3       ...  4.666667   3.0   3.0  1.600000  3.0  4.800000   5.0   5.0   \n",
       "4       ...  4.800000  10.0  10.0  4.320000  8.0  4.800000   5.0   5.0   \n",
       "...     ...       ...   ...   ...       ...  ...       ...   ...   ...   \n",
       "404282  ...  6.285714   7.0   7.0  3.200000  7.0  6.000000   7.0   7.0   \n",
       "404283  ...  5.000000   3.0   3.0  1.600000  3.0  4.333333   3.0   3.0   \n",
       "404284  ...  3.500000   2.0   2.0  1.000000  1.0  4.000000   1.0   1.0   \n",
       "404285  ...  5.333333   9.0   9.0  3.955556  8.0  4.692308  13.0  13.0   \n",
       "404286  ...  4.333333   3.0   3.0  1.466667  2.0  4.333333   3.0   3.0   \n",
       "\n",
       "              68   69  \n",
       "0       2.800000  6.0  \n",
       "1       4.360000  9.0  \n",
       "2       2.320000  4.0  \n",
       "3       2.400000  5.0  \n",
       "4       2.400000  5.0  \n",
       "...          ...  ...  \n",
       "404282  3.200000  7.0  \n",
       "404283  1.600000  3.0  \n",
       "404284  0.800000  1.0  \n",
       "404285  5.476923  9.0  \n",
       "404286  1.466667  2.0  \n",
       "\n",
       "[404287 rows x 78 columns]"
      ]
     },
     "execution_count": 47,
     "metadata": {},
     "output_type": "execute_result"
    }
   ],
   "source": [
    "sample_data = pd.concat([sample_data,\n",
    "                        pd.DataFrame(vec1, columns = np.arange(0, 30)),\n",
    "                        pd.DataFrame(vec2, columns = np.arange(30, 60)),\n",
    "                        pd.DataFrame(other_features, columns = np.arange(60, 70))], axis = 1)\n",
    "sample_data"
   ]
  },
  {
   "cell_type": "markdown",
   "id": "8ef72320-12e7-4ea3-9931-ca813ac616d7",
   "metadata": {},
   "source": [
    "# OVERSAMPLING\n"
   ]
  },
  {
   "cell_type": "code",
   "execution_count": 51,
   "id": "3e6409dc-6abf-4351-a842-0c2fa5b80509",
   "metadata": {},
   "outputs": [
    {
     "data": {
      "text/plain": [
       "((510048, 70), (510048,))"
      ]
     },
     "execution_count": 51,
     "metadata": {},
     "output_type": "execute_result"
    }
   ],
   "source": [
    "from imblearn.over_sampling import SMOTE\n",
    "\n",
    "smote = SMOTE(sampling_strategy='auto', random_state=42)\n",
    "xresampled, yresampled = smote.fit_resample(sample_data.iloc[:,8:], sample_data[\"is_duplicate\"])\n",
    "xresampled.shape, yresampled.shape"
   ]
  },
  {
   "cell_type": "markdown",
   "id": "d2dc9e07-3ef7-49bf-8b40-a484131b7f2b",
   "metadata": {},
   "source": [
    "# MODELING"
   ]
  },
  {
   "cell_type": "code",
   "execution_count": 55,
   "id": "584551f2-fd15-4f82-a4c9-c2d39be5120b",
   "metadata": {},
   "outputs": [
    {
     "data": {
      "text/plain": [
       "((408038, 70), (408038,))"
      ]
     },
     "execution_count": 55,
     "metadata": {},
     "output_type": "execute_result"
    }
   ],
   "source": [
    "from sklearn.model_selection import train_test_split\n",
    "from sklearn.metrics import confusion_matrix\n",
    "xtrain, xtest, ytrain, ytest = train_test_split(xresampled, yresampled, test_size = 0.2)\n",
    "xtrain.shape, ytrain.shape"
   ]
  },
  {
   "cell_type": "code",
   "execution_count": 56,
   "id": "10ced66e-bd03-49e9-af20-8fde8f99b6a1",
   "metadata": {},
   "outputs": [
    {
     "data": {
      "text/plain": [
       "0.8573767277717871"
      ]
     },
     "execution_count": 56,
     "metadata": {},
     "output_type": "execute_result"
    }
   ],
   "source": [
    "from sklearn.ensemble import RandomForestClassifier\n",
    "rf_model = RandomForestClassifier()\n",
    "rf_model.fit(xtrain, ytrain)\n",
    "rf_model.score(xtest, ytest)"
   ]
  },
  {
   "cell_type": "code",
   "execution_count": 60,
   "id": "bd050d72-75fe-4b57-93fe-a82b198be487",
   "metadata": {},
   "outputs": [
    {
     "data": {
      "text/plain": [
       "0.8060680325458288"
      ]
     },
     "execution_count": 60,
     "metadata": {},
     "output_type": "execute_result"
    }
   ],
   "source": [
    "import xgboost as xg\n",
    "xg_model = xg.XGBClassifier()\n",
    "xg_model.fit(xtrain, ytrain)\n",
    "xg_model.score(xtest, ytest)"
   ]
  },
  {
   "cell_type": "code",
   "execution_count": 61,
   "id": "1ea300bd-9244-45ca-b3da-3844188a9817",
   "metadata": {},
   "outputs": [
    {
     "data": {
      "text/plain": [
       "['xg_model.joblib']"
      ]
     },
     "execution_count": 61,
     "metadata": {},
     "output_type": "execute_result"
    }
   ],
   "source": [
    "import joblib\n",
    "\n",
    "joblib.dump(rf_model, 'rf_model.joblib')\n",
    "joblib.dump(xg_model, 'xg_model.joblib')"
   ]
  },
  {
   "cell_type": "code",
   "execution_count": 64,
   "id": "bbb7cfe1-5d76-4716-91c5-bd2ac8782c31",
   "metadata": {},
   "outputs": [],
   "source": [
    "loaded_rf_model = joblib.load('rf_model.joblib')\n",
    "loaded_xg_model = joblib.load('xg_model.joblib')"
   ]
  },
  {
   "cell_type": "markdown",
   "id": "95b16ec6-982a-4b8d-b0e7-7605103ae69b",
   "metadata": {},
   "source": [
    "# PERFORMANCE ANALYSIS"
   ]
  },
  {
   "cell_type": "code",
   "execution_count": 65,
   "id": "380e9677-4fc3-4ee1-a70a-76301d7e4f57",
   "metadata": {},
   "outputs": [],
   "source": [
    "from sklearn.metrics import confusion_matrix, classification_report\n",
    "\n",
    "ypred1 = rf_model.predict(xtest)\n",
    "ypred2 = xg_model.predict(xtest)\n",
    "conf_matrix1 = confusion_matrix(ytest, ypred1)\n",
    "conf_matrix2 = confusion_matrix(ytest, ypred2)"
   ]
  },
  {
   "cell_type": "code",
   "execution_count": 66,
   "id": "d23808a5-697f-404f-8dc5-5e70a3a6e537",
   "metadata": {},
   "outputs": [
    {
     "data": {
      "image/png": "[encoded data removed]",
      "text/plain": [
       "<Figure size 400x400 with 1 Axes>"
      ]
     },
     "metadata": {},
     "output_type": "display_data"
    }
   ],
   "source": [
    "plt.figure(figsize=(4, 4))\n",
    "sns.heatmap(conf_matrix1, annot=True, fmt='d', cmap='Blues', cbar=False)\n",
    "plt.xlabel('Predicted Labels')\n",
    "plt.ylabel('True Labels')\n",
    "plt.title('RANDOM FOREST')\n",
    "plt.show()"
   ]
  },
  {
   "cell_type": "code",
   "execution_count": 68,
   "id": "a07b3f18-ca8b-44fb-924a-4302471943cb",
   "metadata": {},
   "outputs": [
    {
     "data": {
      "image/png": "[encoded data removed]",
      "text/plain": [
       "<Figure size 400x400 with 1 Axes>"
      ]
     },
     "metadata": {},
     "output_type": "display_data"
    }
   ],
   "source": [
    "plt.figure(figsize=(4, 4))\n",
    "sns.heatmap(conf_matrix2, annot=True, fmt='d',cmap='Blues', cbar=False)\n",
    "plt.xlabel('Predicted Labels')\n",
    "plt.ylabel('True Labels')\n",
    "plt.title('XG BOOST')\n",
    "plt.show()"
   ]
  },
  {
   "cell_type": "code",
   "execution_count": 69,
   "id": "f5722286-3db4-4513-80be-252006440dd6",
   "metadata": {},
   "outputs": [
    {
     "data": {
      "text/html": [
       "<div>\n",
       "<style scoped>\n",
       "    .dataframe tbody tr th:only-of-type {\n",
       "        vertical-align: middle;\n",
       "    }\n",
       "\n",
       "    .dataframe tbody tr th {\n",
       "        vertical-align: top;\n",
       "    }\n",
       "\n",
       "    .dataframe thead th {\n",
       "        text-align: right;\n",
       "    }\n",
       "</style>\n",
       "<table border=\"1\" class=\"dataframe\">\n",
       "  <thead>\n",
       "    <tr style=\"text-align: right;\">\n",
       "      <th></th>\n",
       "      <th>0</th>\n",
       "      <th>1</th>\n",
       "      <th>accuracy</th>\n",
       "      <th>macro avg</th>\n",
       "      <th>weighted avg</th>\n",
       "    </tr>\n",
       "  </thead>\n",
       "  <tbody>\n",
       "    <tr>\n",
       "      <th>precision</th>\n",
       "      <td>0.849806</td>\n",
       "      <td>0.865348</td>\n",
       "      <td>0.857377</td>\n",
       "      <td>0.857577</td>\n",
       "      <td>0.857555</td>\n",
       "    </tr>\n",
       "    <tr>\n",
       "      <th>recall</th>\n",
       "      <td>0.869194</td>\n",
       "      <td>0.845491</td>\n",
       "      <td>0.857377</td>\n",
       "      <td>0.857343</td>\n",
       "      <td>0.857377</td>\n",
       "    </tr>\n",
       "    <tr>\n",
       "      <th>f1-score</th>\n",
       "      <td>0.859391</td>\n",
       "      <td>0.855304</td>\n",
       "      <td>0.857377</td>\n",
       "      <td>0.857347</td>\n",
       "      <td>0.857353</td>\n",
       "    </tr>\n",
       "    <tr>\n",
       "      <th>support</th>\n",
       "      <td>51152.000000</td>\n",
       "      <td>50858.000000</td>\n",
       "      <td>0.857377</td>\n",
       "      <td>102010.000000</td>\n",
       "      <td>102010.000000</td>\n",
       "    </tr>\n",
       "  </tbody>\n",
       "</table>\n",
       "</div>"
      ],
      "text/plain": [
       "                      0             1  accuracy      macro avg   weighted avg\n",
       "precision      0.849806      0.865348  0.857377       0.857577       0.857555\n",
       "recall         0.869194      0.845491  0.857377       0.857343       0.857377\n",
       "f1-score       0.859391      0.855304  0.857377       0.857347       0.857353\n",
       "support    51152.000000  50858.000000  0.857377  102010.000000  102010.000000"
      ]
     },
     "execution_count": 69,
     "metadata": {},
     "output_type": "execute_result"
    }
   ],
   "source": [
    "class_report1 = pd.DataFrame(classification_report(ytest, ypred1, output_dict = True))\n",
    "class_report2 = pd.DataFrame(classification_report(ytest, ypred2, output_dict = True))\n",
    "class_report1"
   ]
  },
  {
   "cell_type": "code",
   "execution_count": 70,
   "id": "369c9bb5-bacd-4446-b07a-2dd16f785b66",
   "metadata": {},
   "outputs": [
    {
     "data": {
      "text/html": [
       "<div>\n",
       "<style scoped>\n",
       "    .dataframe tbody tr th:only-of-type {\n",
       "        vertical-align: middle;\n",
       "    }\n",
       "\n",
       "    .dataframe tbody tr th {\n",
       "        vertical-align: top;\n",
       "    }\n",
       "\n",
       "    .dataframe thead th {\n",
       "        text-align: right;\n",
       "    }\n",
       "</style>\n",
       "<table border=\"1\" class=\"dataframe\">\n",
       "  <thead>\n",
       "    <tr style=\"text-align: right;\">\n",
       "      <th></th>\n",
       "      <th>0</th>\n",
       "      <th>1</th>\n",
       "      <th>accuracy</th>\n",
       "      <th>macro avg</th>\n",
       "      <th>weighted avg</th>\n",
       "    </tr>\n",
       "  </thead>\n",
       "  <tbody>\n",
       "    <tr>\n",
       "      <th>precision</th>\n",
       "      <td>0.810504</td>\n",
       "      <td>0.801717</td>\n",
       "      <td>0.806068</td>\n",
       "      <td>0.806110</td>\n",
       "      <td>0.806123</td>\n",
       "    </tr>\n",
       "    <tr>\n",
       "      <th>recall</th>\n",
       "      <td>0.800379</td>\n",
       "      <td>0.811790</td>\n",
       "      <td>0.806068</td>\n",
       "      <td>0.806084</td>\n",
       "      <td>0.806068</td>\n",
       "    </tr>\n",
       "    <tr>\n",
       "      <th>f1-score</th>\n",
       "      <td>0.805410</td>\n",
       "      <td>0.806722</td>\n",
       "      <td>0.806068</td>\n",
       "      <td>0.806066</td>\n",
       "      <td>0.806064</td>\n",
       "    </tr>\n",
       "    <tr>\n",
       "      <th>support</th>\n",
       "      <td>51152.000000</td>\n",
       "      <td>50858.000000</td>\n",
       "      <td>0.806068</td>\n",
       "      <td>102010.000000</td>\n",
       "      <td>102010.000000</td>\n",
       "    </tr>\n",
       "  </tbody>\n",
       "</table>\n",
       "</div>"
      ],
      "text/plain": [
       "                      0             1  accuracy      macro avg   weighted avg\n",
       "precision      0.810504      0.801717  0.806068       0.806110       0.806123\n",
       "recall         0.800379      0.811790  0.806068       0.806084       0.806068\n",
       "f1-score       0.805410      0.806722  0.806068       0.806066       0.806064\n",
       "support    51152.000000  50858.000000  0.806068  102010.000000  102010.000000"
      ]
     },
     "execution_count": 70,
     "metadata": {},
     "output_type": "execute_result"
    }
   ],
   "source": [
    "class_report2"
   ]
  },
  {
   "cell_type": "markdown",
   "id": "895ac743-f515-4249-930b-fedfcc93c7dd",
   "metadata": {},
   "source": [
    "# SAMPLE INFERENCE"
   ]
  },
  {
   "cell_type": "markdown",
   "id": "40b9befc-d74b-4188-9977-d22824548bb7",
   "metadata": {},
   "source": [
    "## SINGLE PREDICTION"
   ]
  },
  {
   "cell_type": "code",
   "execution_count": 78,
   "id": "7dd5a01f-80ae-4e5d-9980-e099d7d0c647",
   "metadata": {},
   "outputs": [
    {
     "data": {
      "text/plain": [
       "('How do prepare for IAS for a fresher?',\n",
       " 'How should I prepare for IAS now?',\n",
       " 1)"
      ]
     },
     "execution_count": 78,
     "metadata": {},
     "output_type": "execute_result"
    }
   ],
   "source": [
    "# sample1 = 'What are some common examples of solid matter?'\n",
    "# sample2 = 'What are the most common examples of solid matter?'\n",
    "\n",
    "l = 132433\n",
    "sample1 = data[\"question1\"][l]\n",
    "sample2 = data[\"question2\"][l]\n",
    "sample1, sample2, data[\"is_duplicate\"][l]"
   ]
  },
  {
   "cell_type": "code",
   "execution_count": 79,
   "id": "3373e972-7637-4f36-8789-a8903e5e7e4d",
   "metadata": {},
   "outputs": [
    {
     "data": {
      "text/html": [
       "<div>\n",
       "<style scoped>\n",
       "    .dataframe tbody tr th:only-of-type {\n",
       "        vertical-align: middle;\n",
       "    }\n",
       "\n",
       "    .dataframe tbody tr th {\n",
       "        vertical-align: top;\n",
       "    }\n",
       "\n",
       "    .dataframe thead th {\n",
       "        text-align: right;\n",
       "    }\n",
       "</style>\n",
       "<table border=\"1\" class=\"dataframe\">\n",
       "  <thead>\n",
       "    <tr style=\"text-align: right;\">\n",
       "      <th></th>\n",
       "      <th>0</th>\n",
       "      <th>1</th>\n",
       "      <th>2</th>\n",
       "      <th>3</th>\n",
       "      <th>4</th>\n",
       "      <th>5</th>\n",
       "      <th>6</th>\n",
       "      <th>7</th>\n",
       "      <th>8</th>\n",
       "      <th>9</th>\n",
       "      <th>...</th>\n",
       "      <th>60</th>\n",
       "      <th>61</th>\n",
       "      <th>62</th>\n",
       "      <th>63</th>\n",
       "      <th>64</th>\n",
       "      <th>65</th>\n",
       "      <th>66</th>\n",
       "      <th>67</th>\n",
       "      <th>68</th>\n",
       "      <th>69</th>\n",
       "    </tr>\n",
       "  </thead>\n",
       "  <tbody>\n",
       "    <tr>\n",
       "      <th>0</th>\n",
       "      <td>-1.011975</td>\n",
       "      <td>-0.248819</td>\n",
       "      <td>-1.16955</td>\n",
       "      <td>-1.109773</td>\n",
       "      <td>-0.201336</td>\n",
       "      <td>-0.371154</td>\n",
       "      <td>2.313023</td>\n",
       "      <td>1.029223</td>\n",
       "      <td>0.984344</td>\n",
       "      <td>-1.109913</td>\n",
       "      <td>...</td>\n",
       "      <td>5.333333</td>\n",
       "      <td>3.0</td>\n",
       "      <td>3.0</td>\n",
       "      <td>1.466667</td>\n",
       "      <td>2.0</td>\n",
       "      <td>4.0</td>\n",
       "      <td>3.0</td>\n",
       "      <td>3.0</td>\n",
       "      <td>1.466667</td>\n",
       "      <td>2.0</td>\n",
       "    </tr>\n",
       "  </tbody>\n",
       "</table>\n",
       "<p>1 rows × 70 columns</p>\n",
       "</div>"
      ],
      "text/plain": [
       "         0         1        2         3         4         5         6   \\\n",
       "0 -1.011975 -0.248819 -1.16955 -1.109773 -0.201336 -0.371154  2.313023   \n",
       "\n",
       "         7         8         9   ...        60   61   62        63   64   65  \\\n",
       "0  1.029223  0.984344 -1.109913  ...  5.333333  3.0  3.0  1.466667  2.0  4.0   \n",
       "\n",
       "    66   67        68   69  \n",
       "0  3.0  3.0  1.466667  2.0  \n",
       "\n",
       "[1 rows x 70 columns]"
      ]
     },
     "execution_count": 79,
     "metadata": {},
     "output_type": "execute_result"
    }
   ],
   "source": [
    "def inference(sample1, sample2):\n",
    "    inf_text1 = process_word_list(sample1.split())\n",
    "    inf_text2 = process_word_list(sample2.split())\n",
    "\n",
    "    inf_vec1 = np.zeros((1, 30))\n",
    "    inf_vec2 = np.zeros((1, 30))\n",
    "    inf_other_features = np.zeros((1, 10))\n",
    "\n",
    "    if len(inf_text1) != 0:\n",
    "        inf_vec1[0] = (sum([word2vec_model.wv[word] for word in inf_text1 if word in word2vec_model.wv.index_to_key]) / len(inf_text1))\n",
    "        inf_blob1 = text_analysis(inf_text1)\n",
    "    else:\n",
    "        inf_vec1[0] = np.zeros((30,))\n",
    "        inf_blob1 = np.zeros((5,))\n",
    "    if len(inf_text2) != 0:\n",
    "        inf_vec2[0] = (sum([word2vec_model.wv[word] for word in inf_text2 if word in word2vec_model.wv.index_to_key]) / len(inf_text2))\n",
    "        inf_blob2 = text_analysis(inf_text2)\n",
    "    else:\n",
    "        inf_vec2[0] = np.zeros((30,))\n",
    "        inf_blob2 = np.zeros((5,))\n",
    "    inf_other_features[0] = np.concatenate([inf_blob1, inf_blob2])\n",
    "\n",
    "    inf_data = pd.DataFrame({})\n",
    "    inf_data = pd.concat([inf_data,\n",
    "                            pd.DataFrame(inf_vec1, columns = np.arange(0, 30)),\n",
    "                            pd.DataFrame(inf_vec2, columns = np.arange(30, 60)),\n",
    "                            pd.DataFrame(inf_other_features, columns = np.arange(60, 70))], axis = 1)\n",
    "    return inf_data\n",
    "\n",
    "inf_data = inference(sample1, sample2)\n",
    "inf_data"
   ]
  },
  {
   "cell_type": "code",
   "execution_count": 80,
   "id": "0bfe62a9-febf-49f7-9511-b06de2bd33b1",
   "metadata": {},
   "outputs": [
    {
     "name": "stdout",
     "output_type": "stream",
     "text": [
      "DUPLICATE\n"
     ]
    }
   ],
   "source": [
    "out = rf_model.predict(inf_data)\n",
    "\n",
    "if out == 0:\n",
    "    print(\"DIFFERENT\")\n",
    "else:\n",
    "    print(\"DUPLICATE\")"
   ]
  },
  {
   "cell_type": "markdown",
   "id": "9dee2c4b-e4d0-4ada-92db-b9e9ab7f0aa6",
   "metadata": {},
   "source": [
    "## PREDICTION ON SAMPLE DATA"
   ]
  },
  {
   "cell_type": "code",
   "execution_count": 84,
   "id": "c0331d5c-6cb8-4d27-9b39-4069ecd4b365",
   "metadata": {},
   "outputs": [
    {
     "data": {
      "text/html": [
       "<div>\n",
       "<style scoped>\n",
       "    .dataframe tbody tr th:only-of-type {\n",
       "        vertical-align: middle;\n",
       "    }\n",
       "\n",
       "    .dataframe tbody tr th {\n",
       "        vertical-align: top;\n",
       "    }\n",
       "\n",
       "    .dataframe thead th {\n",
       "        text-align: right;\n",
       "    }\n",
       "</style>\n",
       "<table border=\"1\" class=\"dataframe\">\n",
       "  <thead>\n",
       "    <tr style=\"text-align: right;\">\n",
       "      <th></th>\n",
       "      <th>question1</th>\n",
       "      <th>question2</th>\n",
       "      <th>is_duplicate</th>\n",
       "    </tr>\n",
       "  </thead>\n",
       "  <tbody>\n",
       "    <tr>\n",
       "      <th>0</th>\n",
       "      <td>Why does the US need Freddie Mac and Fannie Ma...</td>\n",
       "      <td>What is the future of Fannie Mae and Freddie Mac?</td>\n",
       "      <td>0</td>\n",
       "    </tr>\n",
       "    <tr>\n",
       "      <th>1</th>\n",
       "      <td>What is the legality behind copying and pastin...</td>\n",
       "      <td>Is it legal to copy news from other sites?</td>\n",
       "      <td>0</td>\n",
       "    </tr>\n",
       "    <tr>\n",
       "      <th>2</th>\n",
       "      <td>What will happen if someone decides to keep he...</td>\n",
       "      <td>How can I stop my friend from giving Coke/Peps...</td>\n",
       "      <td>0</td>\n",
       "    </tr>\n",
       "    <tr>\n",
       "      <th>3</th>\n",
       "      <td>Who are the likely Democrats to run in the 202...</td>\n",
       "      <td>Who are some Democrats who could run against T...</td>\n",
       "      <td>1</td>\n",
       "    </tr>\n",
       "    <tr>\n",
       "      <th>4</th>\n",
       "      <td>How accurately does Brooklyn Nine-Nine depict ...</td>\n",
       "      <td>How many episodes of Brooklyn nine nine season...</td>\n",
       "      <td>0</td>\n",
       "    </tr>\n",
       "    <tr>\n",
       "      <th>5</th>\n",
       "      <td>How can I achieve big things in life?</td>\n",
       "      <td>How do I achieve big things in life?</td>\n",
       "      <td>1</td>\n",
       "    </tr>\n",
       "    <tr>\n",
       "      <th>6</th>\n",
       "      <td>Is interface theory of perception accepted in ...</td>\n",
       "      <td>Is interface theory of perception by Donald Ho...</td>\n",
       "      <td>1</td>\n",
       "    </tr>\n",
       "    <tr>\n",
       "      <th>7</th>\n",
       "      <td>How much will you earn for 100 views on YouTub...</td>\n",
       "      <td>Who is the best YouTuber in the world?</td>\n",
       "      <td>0</td>\n",
       "    </tr>\n",
       "    <tr>\n",
       "      <th>8</th>\n",
       "      <td>Are there perks in Battlefield 4?</td>\n",
       "      <td>Are there perks in Battlefield 3?</td>\n",
       "      <td>0</td>\n",
       "    </tr>\n",
       "    <tr>\n",
       "      <th>9</th>\n",
       "      <td>What are some of the most controversial things...</td>\n",
       "      <td>What are some of the most controversial things...</td>\n",
       "      <td>0</td>\n",
       "    </tr>\n",
       "  </tbody>\n",
       "</table>\n",
       "</div>"
      ],
      "text/plain": [
       "                                           question1  \\\n",
       "0  Why does the US need Freddie Mac and Fannie Ma...   \n",
       "1  What is the legality behind copying and pastin...   \n",
       "2  What will happen if someone decides to keep he...   \n",
       "3  Who are the likely Democrats to run in the 202...   \n",
       "4  How accurately does Brooklyn Nine-Nine depict ...   \n",
       "5              How can I achieve big things in life?   \n",
       "6  Is interface theory of perception accepted in ...   \n",
       "7  How much will you earn for 100 views on YouTub...   \n",
       "8                  Are there perks in Battlefield 4?   \n",
       "9  What are some of the most controversial things...   \n",
       "\n",
       "                                           question2  is_duplicate  \n",
       "0  What is the future of Fannie Mae and Freddie Mac?             0  \n",
       "1         Is it legal to copy news from other sites?             0  \n",
       "2  How can I stop my friend from giving Coke/Peps...             0  \n",
       "3  Who are some Democrats who could run against T...             1  \n",
       "4  How many episodes of Brooklyn nine nine season...             0  \n",
       "5               How do I achieve big things in life?             1  \n",
       "6  Is interface theory of perception by Donald Ho...             1  \n",
       "7             Who is the best YouTuber in the world?             0  \n",
       "8                  Are there perks in Battlefield 3?             0  \n",
       "9  What are some of the most controversial things...             0  "
      ]
     },
     "execution_count": 84,
     "metadata": {},
     "output_type": "execute_result"
    }
   ],
   "source": [
    "sam = data.sample(10).iloc[:,3:6]\n",
    "sam.reset_index(inplace = True, drop = True)\n",
    "sam"
   ]
  },
  {
   "cell_type": "code",
   "execution_count": 85,
   "id": "1640acf7-3dbe-4f99-b31f-df7644ce9abd",
   "metadata": {},
   "outputs": [
    {
     "data": {
      "text/html": [
       "<div>\n",
       "<style scoped>\n",
       "    .dataframe tbody tr th:only-of-type {\n",
       "        vertical-align: middle;\n",
       "    }\n",
       "\n",
       "    .dataframe tbody tr th {\n",
       "        vertical-align: top;\n",
       "    }\n",
       "\n",
       "    .dataframe thead th {\n",
       "        text-align: right;\n",
       "    }\n",
       "</style>\n",
       "<table border=\"1\" class=\"dataframe\">\n",
       "  <thead>\n",
       "    <tr style=\"text-align: right;\">\n",
       "      <th></th>\n",
       "      <th>question1</th>\n",
       "      <th>question2</th>\n",
       "      <th>is_duplicate</th>\n",
       "      <th>Predictions</th>\n",
       "    </tr>\n",
       "  </thead>\n",
       "  <tbody>\n",
       "    <tr>\n",
       "      <th>0</th>\n",
       "      <td>Why does the US need Freddie Mac and Fannie Ma...</td>\n",
       "      <td>What is the future of Fannie Mae and Freddie Mac?</td>\n",
       "      <td>0</td>\n",
       "      <td>0</td>\n",
       "    </tr>\n",
       "    <tr>\n",
       "      <th>1</th>\n",
       "      <td>What is the legality behind copying and pastin...</td>\n",
       "      <td>Is it legal to copy news from other sites?</td>\n",
       "      <td>0</td>\n",
       "      <td>0</td>\n",
       "    </tr>\n",
       "    <tr>\n",
       "      <th>2</th>\n",
       "      <td>What will happen if someone decides to keep he...</td>\n",
       "      <td>How can I stop my friend from giving Coke/Peps...</td>\n",
       "      <td>0</td>\n",
       "      <td>0</td>\n",
       "    </tr>\n",
       "    <tr>\n",
       "      <th>3</th>\n",
       "      <td>Who are the likely Democrats to run in the 202...</td>\n",
       "      <td>Who are some Democrats who could run against T...</td>\n",
       "      <td>1</td>\n",
       "      <td>1</td>\n",
       "    </tr>\n",
       "    <tr>\n",
       "      <th>4</th>\n",
       "      <td>How accurately does Brooklyn Nine-Nine depict ...</td>\n",
       "      <td>How many episodes of Brooklyn nine nine season...</td>\n",
       "      <td>0</td>\n",
       "      <td>0</td>\n",
       "    </tr>\n",
       "    <tr>\n",
       "      <th>5</th>\n",
       "      <td>How can I achieve big things in life?</td>\n",
       "      <td>How do I achieve big things in life?</td>\n",
       "      <td>1</td>\n",
       "      <td>1</td>\n",
       "    </tr>\n",
       "    <tr>\n",
       "      <th>6</th>\n",
       "      <td>Is interface theory of perception accepted in ...</td>\n",
       "      <td>Is interface theory of perception by Donald Ho...</td>\n",
       "      <td>1</td>\n",
       "      <td>1</td>\n",
       "    </tr>\n",
       "    <tr>\n",
       "      <th>7</th>\n",
       "      <td>How much will you earn for 100 views on YouTub...</td>\n",
       "      <td>Who is the best YouTuber in the world?</td>\n",
       "      <td>0</td>\n",
       "      <td>0</td>\n",
       "    </tr>\n",
       "    <tr>\n",
       "      <th>8</th>\n",
       "      <td>Are there perks in Battlefield 4?</td>\n",
       "      <td>Are there perks in Battlefield 3?</td>\n",
       "      <td>0</td>\n",
       "      <td>0</td>\n",
       "    </tr>\n",
       "    <tr>\n",
       "      <th>9</th>\n",
       "      <td>What are some of the most controversial things...</td>\n",
       "      <td>What are some of the most controversial things...</td>\n",
       "      <td>0</td>\n",
       "      <td>0</td>\n",
       "    </tr>\n",
       "  </tbody>\n",
       "</table>\n",
       "</div>"
      ],
      "text/plain": [
       "                                           question1  \\\n",
       "0  Why does the US need Freddie Mac and Fannie Ma...   \n",
       "1  What is the legality behind copying and pastin...   \n",
       "2  What will happen if someone decides to keep he...   \n",
       "3  Who are the likely Democrats to run in the 202...   \n",
       "4  How accurately does Brooklyn Nine-Nine depict ...   \n",
       "5              How can I achieve big things in life?   \n",
       "6  Is interface theory of perception accepted in ...   \n",
       "7  How much will you earn for 100 views on YouTub...   \n",
       "8                  Are there perks in Battlefield 4?   \n",
       "9  What are some of the most controversial things...   \n",
       "\n",
       "                                           question2  is_duplicate  \\\n",
       "0  What is the future of Fannie Mae and Freddie Mac?             0   \n",
       "1         Is it legal to copy news from other sites?             0   \n",
       "2  How can I stop my friend from giving Coke/Peps...             0   \n",
       "3  Who are some Democrats who could run against T...             1   \n",
       "4  How many episodes of Brooklyn nine nine season...             0   \n",
       "5               How do I achieve big things in life?             1   \n",
       "6  Is interface theory of perception by Donald Ho...             1   \n",
       "7             Who is the best YouTuber in the world?             0   \n",
       "8                  Are there perks in Battlefield 3?             0   \n",
       "9  What are some of the most controversial things...             0   \n",
       "\n",
       "   Predictions  \n",
       "0            0  \n",
       "1            0  \n",
       "2            0  \n",
       "3            1  \n",
       "4            0  \n",
       "5            1  \n",
       "6            1  \n",
       "7            0  \n",
       "8            0  \n",
       "9            0  "
      ]
     },
     "execution_count": 85,
     "metadata": {},
     "output_type": "execute_result"
    }
   ],
   "source": [
    "outs = []\n",
    "for k in range(len(sam)):\n",
    "    sample1 = sam[\"question1\"][k]\n",
    "    sample2 = sam[\"question2\"][k]\n",
    "    inf_data = inference(sample1, sample2)\n",
    "    outs.append(rf_model.predict(inf_data)[0])\n",
    "sam[\"Predictions\"] = outs\n",
    "sam"
   ]
  },
  {
   "cell_type": "markdown",
   "id": "4cc3ca34-fe6f-4ed7-ad74-afa555e11427",
   "metadata": {},
   "source": [
    "# RNN - DL APPROACH"
   ]
  },
  {
   "cell_type": "markdown",
   "id": "65f46ce3-0815-4cff-b19f-39505de3a00a",
   "metadata": {},
   "source": [
    "## MAKING TOKENIZED SEQUENCES"
   ]
  },
  {
   "cell_type": "code",
   "execution_count": 89,
   "id": "e037b594-5615-47ea-8030-77227315afc3",
   "metadata": {},
   "outputs": [
    {
     "data": {
      "text/plain": [
       "((510048, 2), (510048,))"
      ]
     },
     "execution_count": 89,
     "metadata": {},
     "output_type": "execute_result"
    }
   ],
   "source": [
    "from imblearn.over_sampling import RandomOverSampler\n",
    "\n",
    "ros = RandomOverSampler(random_state=42)\n",
    "xresampled_dl, yresampled_dl = ros.fit_resample(data.iloc[:,3:5], data[\"is_duplicate\"])\n",
    "xresampled_dl.shape, yresampled_dl.shape\n"
   ]
  },
  {
   "cell_type": "code",
   "execution_count": 93,
   "id": "8f69f67c-e2a4-4ced-902f-4e8dc20a8b58",
   "metadata": {},
   "outputs": [
    {
     "name": "stderr",
     "output_type": "stream",
     "text": [
      "100%|███████████████████████████████| 510048/510048 [00:03<00:00, 129329.43it/s]\n"
     ]
    }
   ],
   "source": [
    "que1 = np.array(xresampled_dl['question1'].tolist())\n",
    "que2 = np.array(xresampled_dl['question2'].tolist())\n",
    "\n",
    "docx = []\n",
    "for i in tqdm(range(len(que1))):\n",
    "    docx.append(que1[i] + \" \" + que2[i])\n"
   ]
  },
  {
   "cell_type": "code",
   "execution_count": 94,
   "id": "48e76aad-ed58-4b59-ab35-1068ea2b223e",
   "metadata": {},
   "outputs": [
    {
     "name": "stderr",
     "output_type": "stream",
     "text": [
      "100%|███████████████████████████████| 510048/510048 [00:00<00:00, 751693.49it/s]\n"
     ]
    }
   ],
   "source": [
    "lengths = []\n",
    "for sent in tqdm(docx):\n",
    "    lengths.append(len(sent.split()))"
   ]
  },
  {
   "cell_type": "code",
   "execution_count": 95,
   "id": "8bb73871-f807-4c94-b16c-6ffa5e607c1a",
   "metadata": {},
   "outputs": [
    {
     "data": {
      "text/plain": [
       "<Axes: ylabel='Density'>"
      ]
     },
     "execution_count": 95,
     "metadata": {},
     "output_type": "execute_result"
    },
    {
     "data": {
      "image/png": "[encoded data removed]",
      "text/plain": [
       "<Figure size 640x480 with 1 Axes>"
      ]
     },
     "metadata": {},
     "output_type": "display_data"
    }
   ],
   "source": [
    "sns.kdeplot(lengths) # TO SEE, AROUND WHICH NUMBER THE MOST SENTENCE LENGHTS LIES\n"
   ]
  },
  {
   "cell_type": "code",
   "execution_count": 100,
   "id": "d5c9e660-923d-4038-8308-aeb572e5b01f",
   "metadata": {},
   "outputs": [],
   "source": [
    "from tensorflow.keras.preprocessing.text import Tokenizer\n",
    "from tensorflow.keras.preprocessing.sequence import pad_sequences\n",
    "\n",
    "tokenizer = Tokenizer(oov_token = \"<nothing>\")\n",
    "tokenizer.fit_on_texts(docx)\n",
    "sequences = tokenizer.texts_to_sequences(docx)\n",
    "sequences = pad_sequences(sequences, padding = \"post\", maxlen = 35)"
   ]
  },
  {
   "cell_type": "markdown",
   "id": "5b27d93f-7947-4f67-a1d9-50ded57db657",
   "metadata": {},
   "source": [
    "# MODEL ARCHITECTURE"
   ]
  },
  {
   "cell_type": "code",
   "execution_count": 111,
   "id": "9deebc9b-7830-4424-8c18-2d4d725efab2",
   "metadata": {},
   "outputs": [
    {
     "data": {
      "text/html": [
       "<pre style=\"white-space:pre;overflow-x:auto;line-height:normal;font-family:Menlo,'DejaVu Sans Mono',consolas,'Courier New',monospace\"><span style=\"font-weight: bold\">Model: \"sequential_11\"</span>\n",
       "</pre>\n"
      ],
      "text/plain": [
       "\u001b[1mModel: \"sequential_11\"\u001b[0m\n"
      ]
     },
     "metadata": {},
     "output_type": "display_data"
    },
    {
     "data": {
      "text/html": [
       "<pre style=\"white-space:pre;overflow-x:auto;line-height:normal;font-family:Menlo,'DejaVu Sans Mono',consolas,'Courier New',monospace\">┏━━━━━━━━━━━━━━━━━━━━━━━━━━━━━━━━━┳━━━━━━━━━━━━━━━━━━━━━━━━┳━━━━━━━━━━━━━━━┓\n",
       "┃<span style=\"font-weight: bold\"> Layer (type)                    </span>┃<span style=\"font-weight: bold\"> Output Shape           </span>┃<span style=\"font-weight: bold\">       Param # </span>┃\n",
       "┡━━━━━━━━━━━━━━━━━━━━━━━━━━━━━━━━━╇━━━━━━━━━━━━━━━━━━━━━━━━╇━━━━━━━━━━━━━━━┩\n",
       "│ embedding_9 (<span style=\"color: #0087ff; text-decoration-color: #0087ff\">Embedding</span>)         │ (<span style=\"color: #00d7ff; text-decoration-color: #00d7ff\">None</span>, <span style=\"color: #00af00; text-decoration-color: #00af00\">35</span>, <span style=\"color: #00af00; text-decoration-color: #00af00\">30</span>)         │     <span style=\"color: #00af00; text-decoration-color: #00af00\">2,867,910</span> │\n",
       "├─────────────────────────────────┼────────────────────────┼───────────────┤\n",
       "│ simple_rnn_9 (<span style=\"color: #0087ff; text-decoration-color: #0087ff\">SimpleRNN</span>)        │ (<span style=\"color: #00d7ff; text-decoration-color: #00d7ff\">None</span>, <span style=\"color: #00af00; text-decoration-color: #00af00\">32</span>)             │         <span style=\"color: #00af00; text-decoration-color: #00af00\">2,016</span> │\n",
       "├─────────────────────────────────┼────────────────────────┼───────────────┤\n",
       "│ dense_9 (<span style=\"color: #0087ff; text-decoration-color: #0087ff\">Dense</span>)                 │ (<span style=\"color: #00d7ff; text-decoration-color: #00d7ff\">None</span>, <span style=\"color: #00af00; text-decoration-color: #00af00\">1</span>)              │            <span style=\"color: #00af00; text-decoration-color: #00af00\">33</span> │\n",
       "└─────────────────────────────────┴────────────────────────┴───────────────┘\n",
       "</pre>\n"
      ],
      "text/plain": [
       "┏━━━━━━━━━━━━━━━━━━━━━━━━━━━━━━━━━┳━━━━━━━━━━━━━━━━━━━━━━━━┳━━━━━━━━━━━━━━━┓\n",
       "┃\u001b[1m \u001b[0m\u001b[1mLayer (type)                   \u001b[0m\u001b[1m \u001b[0m┃\u001b[1m \u001b[0m\u001b[1mOutput Shape          \u001b[0m\u001b[1m \u001b[0m┃\u001b[1m \u001b[0m\u001b[1m      Param #\u001b[0m\u001b[1m \u001b[0m┃\n",
       "┡━━━━━━━━━━━━━━━━━━━━━━━━━━━━━━━━━╇━━━━━━━━━━━━━━━━━━━━━━━━╇━━━━━━━━━━━━━━━┩\n",
       "│ embedding_9 (\u001b[38;5;33mEmbedding\u001b[0m)         │ (\u001b[38;5;45mNone\u001b[0m, \u001b[38;5;34m35\u001b[0m, \u001b[38;5;34m30\u001b[0m)         │     \u001b[38;5;34m2,867,910\u001b[0m │\n",
       "├─────────────────────────────────┼────────────────────────┼───────────────┤\n",
       "│ simple_rnn_9 (\u001b[38;5;33mSimpleRNN\u001b[0m)        │ (\u001b[38;5;45mNone\u001b[0m, \u001b[38;5;34m32\u001b[0m)             │         \u001b[38;5;34m2,016\u001b[0m │\n",
       "├─────────────────────────────────┼────────────────────────┼───────────────┤\n",
       "│ dense_9 (\u001b[38;5;33mDense\u001b[0m)                 │ (\u001b[38;5;45mNone\u001b[0m, \u001b[38;5;34m1\u001b[0m)              │            \u001b[38;5;34m33\u001b[0m │\n",
       "└─────────────────────────────────┴────────────────────────┴───────────────┘\n"
      ]
     },
     "metadata": {},
     "output_type": "display_data"
    },
    {
     "data": {
      "text/html": [
       "<pre style=\"white-space:pre;overflow-x:auto;line-height:normal;font-family:Menlo,'DejaVu Sans Mono',consolas,'Courier New',monospace\"><span style=\"font-weight: bold\"> Total params: </span><span style=\"color: #00af00; text-decoration-color: #00af00\">2,869,959</span> (10.95 MB)\n",
       "</pre>\n"
      ],
      "text/plain": [
       "\u001b[1m Total params: \u001b[0m\u001b[38;5;34m2,869,959\u001b[0m (10.95 MB)\n"
      ]
     },
     "metadata": {},
     "output_type": "display_data"
    },
    {
     "data": {
      "text/html": [
       "<pre style=\"white-space:pre;overflow-x:auto;line-height:normal;font-family:Menlo,'DejaVu Sans Mono',consolas,'Courier New',monospace\"><span style=\"font-weight: bold\"> Trainable params: </span><span style=\"color: #00af00; text-decoration-color: #00af00\">2,869,959</span> (10.95 MB)\n",
       "</pre>\n"
      ],
      "text/plain": [
       "\u001b[1m Trainable params: \u001b[0m\u001b[38;5;34m2,869,959\u001b[0m (10.95 MB)\n"
      ]
     },
     "metadata": {},
     "output_type": "display_data"
    },
    {
     "data": {
      "text/html": [
       "<pre style=\"white-space:pre;overflow-x:auto;line-height:normal;font-family:Menlo,'DejaVu Sans Mono',consolas,'Courier New',monospace\"><span style=\"font-weight: bold\"> Non-trainable params: </span><span style=\"color: #00af00; text-decoration-color: #00af00\">0</span> (0.00 B)\n",
       "</pre>\n"
      ],
      "text/plain": [
       "\u001b[1m Non-trainable params: \u001b[0m\u001b[38;5;34m0\u001b[0m (0.00 B)\n"
      ]
     },
     "metadata": {},
     "output_type": "display_data"
    }
   ],
   "source": [
    "\n",
    "model = tf.keras.Sequential([tf.keras.Input(shape=(35,))])\n",
    "model.add(tf.keras.layers.Embedding(len(tokenizer.word_index) + 1, output_dim = 30))\n",
    "model.add(tf.keras.layers.SimpleRNN(32, return_sequences = False))\n",
    "model.add(tf.keras.layers.Dense(1, activation = \"sigmoid\"))\n",
    "model.summary()"
   ]
  },
  {
   "cell_type": "code",
   "execution_count": 112,
   "id": "cb46a86d-eb39-4749-a27e-9df4e21b65f5",
   "metadata": {},
   "outputs": [
    {
     "name": "stdout",
     "output_type": "stream",
     "text": [
      "Epoch 1/20\n"
     ]
    },
    {
     "name": "stderr",
     "output_type": "stream",
     "text": [
      "2025-07-01 00:27:54.494888: I tensorflow/core/grappler/optimizers/custom_graph_optimizer_registry.cc:117] Plugin optimizer for device_type GPU is enabled.\n"
     ]
    },
    {
     "name": "stdout",
     "output_type": "stream",
     "text": [
      "\u001b[1m409/409\u001b[0m \u001b[32m━━━━━━━━━━━━━━━━━━━━\u001b[0m\u001b[37m\u001b[0m \u001b[1m548s\u001b[0m 1s/step - accuracy: 0.6903 - loss: 0.5851 - val_accuracy: 0.6117 - val_loss: 0.6718\n",
      "Epoch 2/20\n",
      "\u001b[1m409/409\u001b[0m \u001b[32m━━━━━━━━━━━━━━━━━━━━\u001b[0m\u001b[37m\u001b[0m \u001b[1m608s\u001b[0m 1s/step - accuracy: 0.7902 - loss: 0.4535 - val_accuracy: 0.8870 - val_loss: 0.3369\n",
      "Epoch 3/20\n",
      "\u001b[1m409/409\u001b[0m \u001b[32m━━━━━━━━━━━━━━━━━━━━\u001b[0m\u001b[37m\u001b[0m \u001b[1m728s\u001b[0m 2s/step - accuracy: 0.8244 - loss: 0.3901 - val_accuracy: 0.6168 - val_loss: 0.7007\n",
      "Epoch 4/20\n",
      "\u001b[1m409/409\u001b[0m \u001b[32m━━━━━━━━━━━━━━━━━━━━\u001b[0m\u001b[37m\u001b[0m \u001b[1m597s\u001b[0m 1s/step - accuracy: 0.8568 - loss: 0.3279 - val_accuracy: 0.8602 - val_loss: 0.3428\n",
      "Epoch 5/20\n",
      "\u001b[1m409/409\u001b[0m \u001b[32m━━━━━━━━━━━━━━━━━━━━\u001b[0m\u001b[37m\u001b[0m \u001b[1m582s\u001b[0m 1s/step - accuracy: 0.8796 - loss: 0.2820 - val_accuracy: 0.8840 - val_loss: 0.3056\n",
      "Epoch 6/20\n",
      "\u001b[1m409/409\u001b[0m \u001b[32m━━━━━━━━━━━━━━━━━━━━\u001b[0m\u001b[37m\u001b[0m \u001b[1m622s\u001b[0m 2s/step - accuracy: 0.8976 - loss: 0.2444 - val_accuracy: 0.9700 - val_loss: 0.1189\n",
      "Epoch 7/20\n",
      "\u001b[1m409/409\u001b[0m \u001b[32m━━━━━━━━━━━━━━━━━━━━\u001b[0m\u001b[37m\u001b[0m \u001b[1m565s\u001b[0m 1s/step - accuracy: 0.9058 - loss: 0.2258 - val_accuracy: 0.8856 - val_loss: 0.2758\n",
      "Epoch 8/20\n",
      "\u001b[1m409/409\u001b[0m \u001b[32m━━━━━━━━━━━━━━━━━━━━\u001b[0m\u001b[37m\u001b[0m \u001b[1m680s\u001b[0m 2s/step - accuracy: 0.9213 - loss: 0.1926 - val_accuracy: 0.9757 - val_loss: 0.1021\n",
      "Epoch 9/20\n",
      "\u001b[1m409/409\u001b[0m \u001b[32m━━━━━━━━━━━━━━━━━━━━\u001b[0m\u001b[37m\u001b[0m \u001b[1m564s\u001b[0m 1s/step - accuracy: 0.9290 - loss: 0.1753 - val_accuracy: 0.8491 - val_loss: 0.3351\n",
      "Epoch 10/20\n",
      "\u001b[1m409/409\u001b[0m \u001b[32m━━━━━━━━━━━━━━━━━━━━\u001b[0m\u001b[37m\u001b[0m \u001b[1m546s\u001b[0m 1s/step - accuracy: 0.9381 - loss: 0.1544 - val_accuracy: 0.9281 - val_loss: 0.1816\n",
      "Epoch 11/20\n",
      "\u001b[1m409/409\u001b[0m \u001b[32m━━━━━━━━━━━━━━━━━━━━\u001b[0m\u001b[37m\u001b[0m \u001b[1m563s\u001b[0m 1s/step - accuracy: 0.9451 - loss: 0.1397 - val_accuracy: 0.9792 - val_loss: 0.0773\n",
      "Epoch 12/20\n",
      "\u001b[1m409/409\u001b[0m \u001b[32m━━━━━━━━━━━━━━━━━━━━\u001b[0m\u001b[37m\u001b[0m \u001b[1m585s\u001b[0m 1s/step - accuracy: 0.9490 - loss: 0.1291 - val_accuracy: 0.9048 - val_loss: 0.2317\n",
      "Epoch 13/20\n",
      "\u001b[1m409/409\u001b[0m \u001b[32m━━━━━━━━━━━━━━━━━━━━\u001b[0m\u001b[37m\u001b[0m \u001b[1m647s\u001b[0m 2s/step - accuracy: 0.9544 - loss: 0.1174 - val_accuracy: 0.9639 - val_loss: 0.1117\n",
      "Epoch 14/20\n",
      "\u001b[1m409/409\u001b[0m \u001b[32m━━━━━━━━━━━━━━━━━━━━\u001b[0m\u001b[37m\u001b[0m \u001b[1m693s\u001b[0m 2s/step - accuracy: 0.9593 - loss: 0.1055 - val_accuracy: 0.9589 - val_loss: 0.1153\n",
      "Epoch 15/20\n",
      "\u001b[1m409/409\u001b[0m \u001b[32m━━━━━━━━━━━━━━━━━━━━\u001b[0m\u001b[37m\u001b[0m \u001b[1m672s\u001b[0m 2s/step - accuracy: 0.9623 - loss: 0.0986 - val_accuracy: 0.9844 - val_loss: 0.0589\n",
      "Epoch 16/20\n",
      "\u001b[1m409/409\u001b[0m \u001b[32m━━━━━━━━━━━━━━━━━━━━\u001b[0m\u001b[37m\u001b[0m \u001b[1m695s\u001b[0m 2s/step - accuracy: 0.9626 - loss: 0.0967 - val_accuracy: 0.9445 - val_loss: 0.1354\n",
      "Epoch 17/20\n",
      "\u001b[1m409/409\u001b[0m \u001b[32m━━━━━━━━━━━━━━━━━━━━\u001b[0m\u001b[37m\u001b[0m \u001b[1m401s\u001b[0m 980ms/step - accuracy: 0.9662 - loss: 0.0888 - val_accuracy: 0.9896 - val_loss: 0.0399\n",
      "Epoch 18/20\n",
      "\u001b[1m409/409\u001b[0m \u001b[32m━━━━━━━━━━━━━━━━━━━━\u001b[0m\u001b[37m\u001b[0m \u001b[1m289s\u001b[0m 707ms/step - accuracy: 0.9672 - loss: 0.0848 - val_accuracy: 0.9143 - val_loss: 0.2000\n",
      "Epoch 19/20\n",
      "\u001b[1m409/409\u001b[0m \u001b[32m━━━━━━━━━━━━━━━━━━━━\u001b[0m\u001b[37m\u001b[0m \u001b[1m290s\u001b[0m 710ms/step - accuracy: 0.9704 - loss: 0.0782 - val_accuracy: 0.9886 - val_loss: 0.0425\n",
      "Epoch 20/20\n",
      "\u001b[1m409/409\u001b[0m \u001b[32m━━━━━━━━━━━━━━━━━━━━\u001b[0m\u001b[37m\u001b[0m \u001b[1m293s\u001b[0m 717ms/step - accuracy: 0.9711 - loss: 0.0755 - val_accuracy: 0.9915 - val_loss: 0.0328\n"
     ]
    }
   ],
   "source": [
    "model.compile(loss = \"binary_crossentropy\", optimizer = \"adam\", metrics =[\"accuracy\"])\n",
    "history = model.fit(sequences, yresampled_dl,\n",
    "         epochs = 20, batch_size = 1000,\n",
    "         validation_split = 0.2)"
   ]
  },
  {
   "cell_type": "code",
   "execution_count": 128,
   "id": "83b104ee-dba9-41f8-b25d-fe31e6f620a9",
   "metadata": {},
   "outputs": [
    {
     "data": {
      "text/html": [
       "<pre style=\"white-space:pre;overflow-x:auto;line-height:normal;font-family:Menlo,'DejaVu Sans Mono',consolas,'Courier New',monospace\"><span style=\"font-weight: bold\">Model: \"sequential_20\"</span>\n",
       "</pre>\n"
      ],
      "text/plain": [
       "\u001b[1mModel: \"sequential_20\"\u001b[0m\n"
      ]
     },
     "metadata": {},
     "output_type": "display_data"
    },
    {
     "data": {
      "text/html": [
       "<pre style=\"white-space:pre;overflow-x:auto;line-height:normal;font-family:Menlo,'DejaVu Sans Mono',consolas,'Courier New',monospace\">┏━━━━━━━━━━━━━━━━━━━━━━━━━━━━━━━━━┳━━━━━━━━━━━━━━━━━━━━━━━━┳━━━━━━━━━━━━━━━┓\n",
       "┃<span style=\"font-weight: bold\"> Layer (type)                    </span>┃<span style=\"font-weight: bold\"> Output Shape           </span>┃<span style=\"font-weight: bold\">       Param # </span>┃\n",
       "┡━━━━━━━━━━━━━━━━━━━━━━━━━━━━━━━━━╇━━━━━━━━━━━━━━━━━━━━━━━━╇━━━━━━━━━━━━━━━┩\n",
       "│ embedding_18 (<span style=\"color: #0087ff; text-decoration-color: #0087ff\">Embedding</span>)        │ (<span style=\"color: #00d7ff; text-decoration-color: #00d7ff\">None</span>, <span style=\"color: #00af00; text-decoration-color: #00af00\">35</span>, <span style=\"color: #00af00; text-decoration-color: #00af00\">100</span>)        │     <span style=\"color: #00af00; text-decoration-color: #00af00\">9,559,700</span> │\n",
       "├─────────────────────────────────┼────────────────────────┼───────────────┤\n",
       "│ bidirectional_8 (<span style=\"color: #0087ff; text-decoration-color: #0087ff\">Bidirectional</span>) │ (<span style=\"color: #00d7ff; text-decoration-color: #00d7ff\">None</span>, <span style=\"color: #00af00; text-decoration-color: #00af00\">128</span>)            │        <span style=\"color: #00af00; text-decoration-color: #00af00\">84,480</span> │\n",
       "├─────────────────────────────────┼────────────────────────┼───────────────┤\n",
       "│ dropout_8 (<span style=\"color: #0087ff; text-decoration-color: #0087ff\">Dropout</span>)             │ (<span style=\"color: #00d7ff; text-decoration-color: #00d7ff\">None</span>, <span style=\"color: #00af00; text-decoration-color: #00af00\">128</span>)            │             <span style=\"color: #00af00; text-decoration-color: #00af00\">0</span> │\n",
       "├─────────────────────────────────┼────────────────────────┼───────────────┤\n",
       "│ dense_18 (<span style=\"color: #0087ff; text-decoration-color: #0087ff\">Dense</span>)                │ (<span style=\"color: #00d7ff; text-decoration-color: #00d7ff\">None</span>, <span style=\"color: #00af00; text-decoration-color: #00af00\">1</span>)              │           <span style=\"color: #00af00; text-decoration-color: #00af00\">129</span> │\n",
       "└─────────────────────────────────┴────────────────────────┴───────────────┘\n",
       "</pre>\n"
      ],
      "text/plain": [
       "┏━━━━━━━━━━━━━━━━━━━━━━━━━━━━━━━━━┳━━━━━━━━━━━━━━━━━━━━━━━━┳━━━━━━━━━━━━━━━┓\n",
       "┃\u001b[1m \u001b[0m\u001b[1mLayer (type)                   \u001b[0m\u001b[1m \u001b[0m┃\u001b[1m \u001b[0m\u001b[1mOutput Shape          \u001b[0m\u001b[1m \u001b[0m┃\u001b[1m \u001b[0m\u001b[1m      Param #\u001b[0m\u001b[1m \u001b[0m┃\n",
       "┡━━━━━━━━━━━━━━━━━━━━━━━━━━━━━━━━━╇━━━━━━━━━━━━━━━━━━━━━━━━╇━━━━━━━━━━━━━━━┩\n",
       "│ embedding_18 (\u001b[38;5;33mEmbedding\u001b[0m)        │ (\u001b[38;5;45mNone\u001b[0m, \u001b[38;5;34m35\u001b[0m, \u001b[38;5;34m100\u001b[0m)        │     \u001b[38;5;34m9,559,700\u001b[0m │\n",
       "├─────────────────────────────────┼────────────────────────┼───────────────┤\n",
       "│ bidirectional_8 (\u001b[38;5;33mBidirectional\u001b[0m) │ (\u001b[38;5;45mNone\u001b[0m, \u001b[38;5;34m128\u001b[0m)            │        \u001b[38;5;34m84,480\u001b[0m │\n",
       "├─────────────────────────────────┼────────────────────────┼───────────────┤\n",
       "│ dropout_8 (\u001b[38;5;33mDropout\u001b[0m)             │ (\u001b[38;5;45mNone\u001b[0m, \u001b[38;5;34m128\u001b[0m)            │             \u001b[38;5;34m0\u001b[0m │\n",
       "├─────────────────────────────────┼────────────────────────┼───────────────┤\n",
       "│ dense_18 (\u001b[38;5;33mDense\u001b[0m)                │ (\u001b[38;5;45mNone\u001b[0m, \u001b[38;5;34m1\u001b[0m)              │           \u001b[38;5;34m129\u001b[0m │\n",
       "└─────────────────────────────────┴────────────────────────┴───────────────┘\n"
      ]
     },
     "metadata": {},
     "output_type": "display_data"
    },
    {
     "data": {
      "text/html": [
       "<pre style=\"white-space:pre;overflow-x:auto;line-height:normal;font-family:Menlo,'DejaVu Sans Mono',consolas,'Courier New',monospace\"><span style=\"font-weight: bold\"> Total params: </span><span style=\"color: #00af00; text-decoration-color: #00af00\">9,644,309</span> (36.79 MB)\n",
       "</pre>\n"
      ],
      "text/plain": [
       "\u001b[1m Total params: \u001b[0m\u001b[38;5;34m9,644,309\u001b[0m (36.79 MB)\n"
      ]
     },
     "metadata": {},
     "output_type": "display_data"
    },
    {
     "data": {
      "text/html": [
       "<pre style=\"white-space:pre;overflow-x:auto;line-height:normal;font-family:Menlo,'DejaVu Sans Mono',consolas,'Courier New',monospace\"><span style=\"font-weight: bold\"> Trainable params: </span><span style=\"color: #00af00; text-decoration-color: #00af00\">9,644,309</span> (36.79 MB)\n",
       "</pre>\n"
      ],
      "text/plain": [
       "\u001b[1m Trainable params: \u001b[0m\u001b[38;5;34m9,644,309\u001b[0m (36.79 MB)\n"
      ]
     },
     "metadata": {},
     "output_type": "display_data"
    },
    {
     "data": {
      "text/html": [
       "<pre style=\"white-space:pre;overflow-x:auto;line-height:normal;font-family:Menlo,'DejaVu Sans Mono',consolas,'Courier New',monospace\"><span style=\"font-weight: bold\"> Non-trainable params: </span><span style=\"color: #00af00; text-decoration-color: #00af00\">0</span> (0.00 B)\n",
       "</pre>\n"
      ],
      "text/plain": [
       "\u001b[1m Non-trainable params: \u001b[0m\u001b[38;5;34m0\u001b[0m (0.00 B)\n"
      ]
     },
     "metadata": {},
     "output_type": "display_data"
    }
   ],
   "source": [
    "import tensorflow as tf\n",
    "from tensorflow.keras.layers import Embedding, Bidirectional, LSTM, Dropout, Dense, TimeDistributed\n",
    "from tensorflow.keras.models import Sequential\n",
    "\n",
    "max_seq_length = 35\n",
    "vocab_size = len(tokenizer.word_index) + 1   # +1 for the OOV/zero token\n",
    "\n",
    "lstm_model = tf.keras.Sequential([\n",
    "    tf.keras.layers.Input(shape=(35,)),               # 35‑token sentence\n",
    "    tf.keras.layers.Embedding(vocab_size, 100),\n",
    "    tf.keras.layers.Bidirectional(tf.keras.layers.LSTM(64)),   # return_sequences=False\n",
    "    tf.keras.layers.Dropout(0.2),\n",
    "    tf.keras.layers.Dense(1, activation=\"sigmoid\")    # (batch, 1)\n",
    "])\n",
    "\n",
    "lstm_model.compile(loss=\"binary_crossentropy\",\n",
    "                   optimizer=\"adam\",\n",
    "                   metrics=[\"accuracy\"])\n",
    "\n",
    "lstm_model.summary()"
   ]
  },
  {
   "cell_type": "code",
   "execution_count": 129,
   "id": "2e585a7c-810a-43b1-98ba-9f1869966a6b",
   "metadata": {},
   "outputs": [
    {
     "name": "stdout",
     "output_type": "stream",
     "text": [
      "Number of tokens: 95595\n"
     ]
    }
   ],
   "source": [
    "# Assuming `tokenizer` is your already fitted Tokenizer object\n",
    "num_tokens = len(tokenizer.word_counts)\n",
    "print(\"Number of tokens:\", num_tokens)"
   ]
  },
  {
   "cell_type": "code",
   "execution_count": 130,
   "id": "63643712-8c0d-4a9b-83b1-af3817d3fae5",
   "metadata": {},
   "outputs": [
    {
     "name": "stdout",
     "output_type": "stream",
     "text": [
      "Epoch 1/20\n",
      "\u001b[1m409/409\u001b[0m \u001b[32m━━━━━━━━━━━━━━━━━━━━\u001b[0m\u001b[37m\u001b[0m \u001b[1m902s\u001b[0m 2s/step - accuracy: 0.7121 - loss: 0.5595 - val_accuracy: 0.6092 - val_loss: 0.7177\n",
      "Epoch 2/20\n",
      "\u001b[1m409/409\u001b[0m \u001b[32m━━━━━━━━━━━━━━━━━━━━\u001b[0m\u001b[37m\u001b[0m \u001b[1m903s\u001b[0m 2s/step - accuracy: 0.7825 - loss: 0.4560 - val_accuracy: 0.7422 - val_loss: 0.4844\n",
      "Epoch 3/20\n",
      "\u001b[1m409/409\u001b[0m \u001b[32m━━━━━━━━━━━━━━━━━━━━\u001b[0m\u001b[37m\u001b[0m \u001b[1m898s\u001b[0m 2s/step - accuracy: 0.8091 - loss: 0.4016 - val_accuracy: 0.7456 - val_loss: 0.5152\n",
      "Epoch 4/20\n",
      "\u001b[1m409/409\u001b[0m \u001b[32m━━━━━━━━━━━━━━━━━━━━\u001b[0m\u001b[37m\u001b[0m \u001b[1m882s\u001b[0m 2s/step - accuracy: 0.8368 - loss: 0.3478 - val_accuracy: 0.8877 - val_loss: 0.3197\n",
      "Epoch 5/20\n",
      "\u001b[1m409/409\u001b[0m \u001b[32m━━━━━━━━━━━━━━━━━━━━\u001b[0m\u001b[37m\u001b[0m \u001b[1m883s\u001b[0m 2s/step - accuracy: 0.8591 - loss: 0.3050 - val_accuracy: 0.7923 - val_loss: 0.4399\n",
      "Epoch 6/20\n",
      "\u001b[1m409/409\u001b[0m \u001b[32m━━━━━━━━━━━━━━━━━━━━\u001b[0m\u001b[37m\u001b[0m \u001b[1m941s\u001b[0m 2s/step - accuracy: 0.8779 - loss: 0.2678 - val_accuracy: 0.8813 - val_loss: 0.3030\n",
      "Epoch 7/20\n",
      "\u001b[1m409/409\u001b[0m \u001b[32m━━━━━━━━━━━━━━━━━━━━\u001b[0m\u001b[37m\u001b[0m \u001b[1m883s\u001b[0m 2s/step - accuracy: 0.8942 - loss: 0.2359 - val_accuracy: 0.8821 - val_loss: 0.2958\n",
      "Epoch 8/20\n",
      "\u001b[1m409/409\u001b[0m \u001b[32m━━━━━━━━━━━━━━━━━━━━\u001b[0m\u001b[37m\u001b[0m \u001b[1m907s\u001b[0m 2s/step - accuracy: 0.9054 - loss: 0.2120 - val_accuracy: 0.9246 - val_loss: 0.2169\n",
      "Epoch 9/20\n",
      "\u001b[1m409/409\u001b[0m \u001b[32m━━━━━━━━━━━━━━━━━━━━\u001b[0m\u001b[37m\u001b[0m \u001b[1m908s\u001b[0m 2s/step - accuracy: 0.9163 - loss: 0.1901 - val_accuracy: 0.9164 - val_loss: 0.2226\n",
      "Epoch 10/20\n",
      "\u001b[1m409/409\u001b[0m \u001b[32m━━━━━━━━━━━━━━━━━━━━\u001b[0m\u001b[37m\u001b[0m \u001b[1m900s\u001b[0m 2s/step - accuracy: 0.9248 - loss: 0.1719 - val_accuracy: 0.9351 - val_loss: 0.1931\n",
      "Epoch 11/20\n",
      "\u001b[1m409/409\u001b[0m \u001b[32m━━━━━━━━━━━━━━━━━━━━\u001b[0m\u001b[37m\u001b[0m \u001b[1m890s\u001b[0m 2s/step - accuracy: 0.9319 - loss: 0.1565 - val_accuracy: 0.9500 - val_loss: 0.1533\n",
      "Epoch 12/20\n",
      "\u001b[1m409/409\u001b[0m \u001b[32m━━━━━━━━━━━━━━━━━━━━\u001b[0m\u001b[37m\u001b[0m \u001b[1m892s\u001b[0m 2s/step - accuracy: 0.9385 - loss: 0.1439 - val_accuracy: 0.9471 - val_loss: 0.1602\n",
      "Epoch 13/20\n",
      "\u001b[1m409/409\u001b[0m \u001b[32m━━━━━━━━━━━━━━━━━━━━\u001b[0m\u001b[37m\u001b[0m \u001b[1m891s\u001b[0m 2s/step - accuracy: 0.9429 - loss: 0.1345 - val_accuracy: 0.9214 - val_loss: 0.1996\n",
      "Epoch 14/20\n",
      "\u001b[1m409/409\u001b[0m \u001b[32m━━━━━━━━━━━━━━━━━━━━\u001b[0m\u001b[37m\u001b[0m \u001b[1m873s\u001b[0m 2s/step - accuracy: 0.9478 - loss: 0.1240 - val_accuracy: 0.9565 - val_loss: 0.1326\n",
      "Epoch 15/20\n",
      "\u001b[1m409/409\u001b[0m \u001b[32m━━━━━━━━━━━━━━━━━━━━\u001b[0m\u001b[37m\u001b[0m \u001b[1m895s\u001b[0m 2s/step - accuracy: 0.9531 - loss: 0.1123 - val_accuracy: 0.9453 - val_loss: 0.1530\n",
      "Epoch 16/20\n",
      "\u001b[1m409/409\u001b[0m \u001b[32m━━━━━━━━━━━━━━━━━━━━\u001b[0m\u001b[37m\u001b[0m \u001b[1m908s\u001b[0m 2s/step - accuracy: 0.9567 - loss: 0.1039 - val_accuracy: 0.9696 - val_loss: 0.1013\n",
      "Epoch 17/20\n",
      "\u001b[1m409/409\u001b[0m \u001b[32m━━━━━━━━━━━━━━━━━━━━\u001b[0m\u001b[37m\u001b[0m \u001b[1m891s\u001b[0m 2s/step - accuracy: 0.9599 - loss: 0.0962 - val_accuracy: 0.9559 - val_loss: 0.1216\n",
      "Epoch 18/20\n",
      "\u001b[1m409/409\u001b[0m \u001b[32m━━━━━━━━━━━━━━━━━━━━\u001b[0m\u001b[37m\u001b[0m \u001b[1m860s\u001b[0m 2s/step - accuracy: 0.9623 - loss: 0.0911 - val_accuracy: 0.9756 - val_loss: 0.0789\n",
      "Epoch 19/20\n",
      "\u001b[1m409/409\u001b[0m \u001b[32m━━━━━━━━━━━━━━━━━━━━\u001b[0m\u001b[37m\u001b[0m \u001b[1m903s\u001b[0m 2s/step - accuracy: 0.9658 - loss: 0.0842 - val_accuracy: 0.9727 - val_loss: 0.0857\n",
      "Epoch 20/20\n",
      "\u001b[1m409/409\u001b[0m \u001b[32m━━━━━━━━━━━━━━━━━━━━\u001b[0m\u001b[37m\u001b[0m \u001b[1m901s\u001b[0m 2s/step - accuracy: 0.9680 - loss: 0.0790 - val_accuracy: 0.9682 - val_loss: 0.0932\n"
     ]
    }
   ],
   "source": [
    "history2 = lstm_model.fit(sequences, yresampled_dl,\n",
    "         epochs = 20, batch_size = 1000,\n",
    "         validation_split = 0.2)"
   ]
  },
  {
   "cell_type": "markdown",
   "id": "305819a1-7142-44be-8887-aaab78527623",
   "metadata": {},
   "source": [
    "# INFERENCE"
   ]
  },
  {
   "cell_type": "code",
   "execution_count": 131,
   "id": "6546a311-50da-436a-830f-375b802b7eb2",
   "metadata": {},
   "outputs": [],
   "source": [
    "def inference_dl(sam1, sam2):\n",
    "    docx = [sam1 + \" \" + sam2]\n",
    "    sequences = tokenizer.texts_to_sequences(docx)\n",
    "    sequences = pad_sequences(sequences, padding = \"post\", maxlen = 35)\n",
    "    return sequences"
   ]
  },
  {
   "cell_type": "code",
   "execution_count": 132,
   "id": "6acf26b0-18f3-4450-8b24-96fea5f3749a",
   "metadata": {},
   "outputs": [
    {
     "data": {
      "text/plain": [
       "('Which one is grammatically correct: \"an year\" or \"a year\"?',\n",
       " 'The atmosphere seem to be that of a friendly one. Is this phrase grammatically correct?',\n",
       " 0)"
      ]
     },
     "execution_count": 132,
     "metadata": {},
     "output_type": "execute_result"
    }
   ],
   "source": [
    "l = 13243\n",
    "sample1 = data[\"question1\"][l]\n",
    "sample2 = data[\"question2\"][l]\n",
    "sample1, sample2, data[\"is_duplicate\"][l]"
   ]
  },
  {
   "cell_type": "code",
   "execution_count": 135,
   "id": "2bdfd416-27e8-4363-99cf-b4322a7326a0",
   "metadata": {},
   "outputs": [],
   "source": [
    "sample1 = \"Who is the most liked character of all time\"\n",
    "sample2 = 'Which character is the most liked in india'"
   ]
  },
  {
   "cell_type": "code",
   "execution_count": 136,
   "id": "ccc0572e-ef02-4fb8-a8bb-44ee5f4d648b",
   "metadata": {},
   "outputs": [
    {
     "data": {
      "text/plain": [
       "'DIFFERENT'"
      ]
     },
     "execution_count": 136,
     "metadata": {},
     "output_type": "execute_result"
    }
   ],
   "source": [
    "inf_data = inference_dl(sample1, sample2)\n",
    "out = lstm_model.predict(inf_data, verbose = 0)\n",
    "out = tf.squeeze(out)\n",
    "out = \"DUPLICATE\" if np.mean(out) >= 0.5 else \"DIFFERENT\"\n",
    "out"
   ]
  },
  {
   "cell_type": "code",
   "execution_count": 137,
   "id": "86112646-5bc9-4461-b3ea-e8a2cdc2bd1e",
   "metadata": {},
   "outputs": [
    {
     "data": {
      "text/html": [
       "<div>\n",
       "<style scoped>\n",
       "    .dataframe tbody tr th:only-of-type {\n",
       "        vertical-align: middle;\n",
       "    }\n",
       "\n",
       "    .dataframe tbody tr th {\n",
       "        vertical-align: top;\n",
       "    }\n",
       "\n",
       "    .dataframe thead th {\n",
       "        text-align: right;\n",
       "    }\n",
       "</style>\n",
       "<table border=\"1\" class=\"dataframe\">\n",
       "  <thead>\n",
       "    <tr style=\"text-align: right;\">\n",
       "      <th></th>\n",
       "      <th>question1</th>\n",
       "      <th>question2</th>\n",
       "      <th>is_duplicate</th>\n",
       "    </tr>\n",
       "  </thead>\n",
       "  <tbody>\n",
       "    <tr>\n",
       "      <th>0</th>\n",
       "      <td>What is the difference between microprocessor ...</td>\n",
       "      <td>Will the liberal Supreme Court justices be pre...</td>\n",
       "      <td>0</td>\n",
       "    </tr>\n",
       "    <tr>\n",
       "      <th>1</th>\n",
       "      <td>Who did the Greyjoys support during Robert's R...</td>\n",
       "      <td>Where were the Greyjoys during Robert's Rebell...</td>\n",
       "      <td>1</td>\n",
       "    </tr>\n",
       "    <tr>\n",
       "      <th>2</th>\n",
       "      <td>What are dreams really? Why don't we remember ...</td>\n",
       "      <td>Why don't we remember dreams after waking up?</td>\n",
       "      <td>1</td>\n",
       "    </tr>\n",
       "    <tr>\n",
       "      <th>3</th>\n",
       "      <td>Will my children develop schizophrenia?</td>\n",
       "      <td>i have boyfriend, his family is schizophrenic,...</td>\n",
       "      <td>1</td>\n",
       "    </tr>\n",
       "    <tr>\n",
       "      <th>4</th>\n",
       "      <td>What are the works of general contractor?</td>\n",
       "      <td>What are the works of a general contractor?</td>\n",
       "      <td>1</td>\n",
       "    </tr>\n",
       "    <tr>\n",
       "      <th>5</th>\n",
       "      <td>What are some unexpected things first-time vis...</td>\n",
       "      <td>What are some unexpected things first-time vis...</td>\n",
       "      <td>0</td>\n",
       "    </tr>\n",
       "    <tr>\n",
       "      <th>6</th>\n",
       "      <td>What should I do to get a 5 on an AP exam with...</td>\n",
       "      <td>Is it possible to get a 5 on AP Physics 2 with...</td>\n",
       "      <td>0</td>\n",
       "    </tr>\n",
       "    <tr>\n",
       "      <th>7</th>\n",
       "      <td>What is the contribution of agriculture in Ind...</td>\n",
       "      <td>When can I file my income tax return in India ...</td>\n",
       "      <td>0</td>\n",
       "    </tr>\n",
       "    <tr>\n",
       "      <th>8</th>\n",
       "      <td>Why many of the Indians use the phrase when so...</td>\n",
       "      <td>What are the origins of the Hindi phrase \"Majb...</td>\n",
       "      <td>1</td>\n",
       "    </tr>\n",
       "    <tr>\n",
       "      <th>9</th>\n",
       "      <td>What is the difference between a stock and a s...</td>\n",
       "      <td>Is there any difference between share and stock?</td>\n",
       "      <td>1</td>\n",
       "    </tr>\n",
       "  </tbody>\n",
       "</table>\n",
       "</div>"
      ],
      "text/plain": [
       "                                           question1  \\\n",
       "0  What is the difference between microprocessor ...   \n",
       "1  Who did the Greyjoys support during Robert's R...   \n",
       "2  What are dreams really? Why don't we remember ...   \n",
       "3            Will my children develop schizophrenia?   \n",
       "4          What are the works of general contractor?   \n",
       "5  What are some unexpected things first-time vis...   \n",
       "6  What should I do to get a 5 on an AP exam with...   \n",
       "7  What is the contribution of agriculture in Ind...   \n",
       "8  Why many of the Indians use the phrase when so...   \n",
       "9  What is the difference between a stock and a s...   \n",
       "\n",
       "                                           question2  is_duplicate  \n",
       "0  Will the liberal Supreme Court justices be pre...             0  \n",
       "1  Where were the Greyjoys during Robert's Rebell...             1  \n",
       "2      Why don't we remember dreams after waking up?             1  \n",
       "3  i have boyfriend, his family is schizophrenic,...             1  \n",
       "4        What are the works of a general contractor?             1  \n",
       "5  What are some unexpected things first-time vis...             0  \n",
       "6  Is it possible to get a 5 on AP Physics 2 with...             0  \n",
       "7  When can I file my income tax return in India ...             0  \n",
       "8  What are the origins of the Hindi phrase \"Majb...             1  \n",
       "9   Is there any difference between share and stock?             1  "
      ]
     },
     "execution_count": 137,
     "metadata": {},
     "output_type": "execute_result"
    }
   ],
   "source": [
    "sam = data.sample(10).iloc[:,3:6]\n",
    "sam.reset_index(inplace = True, drop = True)\n",
    "sam"
   ]
  },
  {
   "cell_type": "code",
   "execution_count": 138,
   "id": "f9d6d643-9923-46fe-896a-1793885800f1",
   "metadata": {},
   "outputs": [
    {
     "data": {
      "text/html": [
       "<div>\n",
       "<style scoped>\n",
       "    .dataframe tbody tr th:only-of-type {\n",
       "        vertical-align: middle;\n",
       "    }\n",
       "\n",
       "    .dataframe tbody tr th {\n",
       "        vertical-align: top;\n",
       "    }\n",
       "\n",
       "    .dataframe thead th {\n",
       "        text-align: right;\n",
       "    }\n",
       "</style>\n",
       "<table border=\"1\" class=\"dataframe\">\n",
       "  <thead>\n",
       "    <tr style=\"text-align: right;\">\n",
       "      <th></th>\n",
       "      <th>question1</th>\n",
       "      <th>question2</th>\n",
       "      <th>is_duplicate</th>\n",
       "      <th>Predictions</th>\n",
       "    </tr>\n",
       "  </thead>\n",
       "  <tbody>\n",
       "    <tr>\n",
       "      <th>0</th>\n",
       "      <td>What is the difference between microprocessor ...</td>\n",
       "      <td>Will the liberal Supreme Court justices be pre...</td>\n",
       "      <td>0</td>\n",
       "      <td>0</td>\n",
       "    </tr>\n",
       "    <tr>\n",
       "      <th>1</th>\n",
       "      <td>Who did the Greyjoys support during Robert's R...</td>\n",
       "      <td>Where were the Greyjoys during Robert's Rebell...</td>\n",
       "      <td>1</td>\n",
       "      <td>1</td>\n",
       "    </tr>\n",
       "    <tr>\n",
       "      <th>2</th>\n",
       "      <td>What are dreams really? Why don't we remember ...</td>\n",
       "      <td>Why don't we remember dreams after waking up?</td>\n",
       "      <td>1</td>\n",
       "      <td>1</td>\n",
       "    </tr>\n",
       "    <tr>\n",
       "      <th>3</th>\n",
       "      <td>Will my children develop schizophrenia?</td>\n",
       "      <td>i have boyfriend, his family is schizophrenic,...</td>\n",
       "      <td>1</td>\n",
       "      <td>1</td>\n",
       "    </tr>\n",
       "    <tr>\n",
       "      <th>4</th>\n",
       "      <td>What are the works of general contractor?</td>\n",
       "      <td>What are the works of a general contractor?</td>\n",
       "      <td>1</td>\n",
       "      <td>1</td>\n",
       "    </tr>\n",
       "    <tr>\n",
       "      <th>5</th>\n",
       "      <td>What are some unexpected things first-time vis...</td>\n",
       "      <td>What are some unexpected things first-time vis...</td>\n",
       "      <td>0</td>\n",
       "      <td>0</td>\n",
       "    </tr>\n",
       "    <tr>\n",
       "      <th>6</th>\n",
       "      <td>What should I do to get a 5 on an AP exam with...</td>\n",
       "      <td>Is it possible to get a 5 on AP Physics 2 with...</td>\n",
       "      <td>0</td>\n",
       "      <td>0</td>\n",
       "    </tr>\n",
       "    <tr>\n",
       "      <th>7</th>\n",
       "      <td>What is the contribution of agriculture in Ind...</td>\n",
       "      <td>When can I file my income tax return in India ...</td>\n",
       "      <td>0</td>\n",
       "      <td>0</td>\n",
       "    </tr>\n",
       "    <tr>\n",
       "      <th>8</th>\n",
       "      <td>Why many of the Indians use the phrase when so...</td>\n",
       "      <td>What are the origins of the Hindi phrase \"Majb...</td>\n",
       "      <td>1</td>\n",
       "      <td>1</td>\n",
       "    </tr>\n",
       "    <tr>\n",
       "      <th>9</th>\n",
       "      <td>What is the difference between a stock and a s...</td>\n",
       "      <td>Is there any difference between share and stock?</td>\n",
       "      <td>1</td>\n",
       "      <td>1</td>\n",
       "    </tr>\n",
       "  </tbody>\n",
       "</table>\n",
       "</div>"
      ],
      "text/plain": [
       "                                           question1  \\\n",
       "0  What is the difference between microprocessor ...   \n",
       "1  Who did the Greyjoys support during Robert's R...   \n",
       "2  What are dreams really? Why don't we remember ...   \n",
       "3            Will my children develop schizophrenia?   \n",
       "4          What are the works of general contractor?   \n",
       "5  What are some unexpected things first-time vis...   \n",
       "6  What should I do to get a 5 on an AP exam with...   \n",
       "7  What is the contribution of agriculture in Ind...   \n",
       "8  Why many of the Indians use the phrase when so...   \n",
       "9  What is the difference between a stock and a s...   \n",
       "\n",
       "                                           question2  is_duplicate  \\\n",
       "0  Will the liberal Supreme Court justices be pre...             0   \n",
       "1  Where were the Greyjoys during Robert's Rebell...             1   \n",
       "2      Why don't we remember dreams after waking up?             1   \n",
       "3  i have boyfriend, his family is schizophrenic,...             1   \n",
       "4        What are the works of a general contractor?             1   \n",
       "5  What are some unexpected things first-time vis...             0   \n",
       "6  Is it possible to get a 5 on AP Physics 2 with...             0   \n",
       "7  When can I file my income tax return in India ...             0   \n",
       "8  What are the origins of the Hindi phrase \"Majb...             1   \n",
       "9   Is there any difference between share and stock?             1   \n",
       "\n",
       "   Predictions  \n",
       "0            0  \n",
       "1            1  \n",
       "2            1  \n",
       "3            1  \n",
       "4            1  \n",
       "5            0  \n",
       "6            0  \n",
       "7            0  \n",
       "8            1  \n",
       "9            1  "
      ]
     },
     "execution_count": 138,
     "metadata": {},
     "output_type": "execute_result"
    }
   ],
   "source": [
    "outs = []\n",
    "for k in range(len(sam)):\n",
    "    sample1 = sam[\"question1\"][k]\n",
    "    sample2 = sam[\"question2\"][k]\n",
    "    inf_data = inference_dl(sample1, sample2)\n",
    "    out = lstm_model.predict(inf_data, verbose = 0)\n",
    "    out = tf.squeeze(out)\n",
    "    out = 1 if np.mean(out) >= 0.5 else 0\n",
    "    outs.append(out)\n",
    "sam[\"Predictions\"] = outs\n",
    "sam"
   ]
  },
  {
   "cell_type": "code",
   "execution_count": 140,
   "id": "4e6a1bde-6428-4312-ae78-5fe30159fb40",
   "metadata": {},
   "outputs": [],
   "source": [
    "model.save(\"my_model.keras\")  \n"
   ]
  },
  {
   "cell_type": "code",
   "execution_count": 142,
   "id": "4892917f-aa53-4c5a-b078-b5dd68ff8d02",
   "metadata": {},
   "outputs": [
    {
     "name": "stderr",
     "output_type": "stream",
     "text": [
      "/Users/ronaldriju/ImageClassification/venv/lib/python3.11/site-packages/keras/src/saving/saving_lib.py:802: UserWarning: Skipping variable loading for optimizer 'rmsprop', because it has 8 variables whereas the saved optimizer has 14 variables. \n",
      "  saveable.load_own_variables(weights_store.get(inner_path))\n"
     ]
    }
   ],
   "source": [
    "\n",
    "\n",
    "from tensorflow.keras.models import load_model\n",
    "model1 = load_model(\"my_model.keras\")\n"
   ]
  },
  {
   "cell_type": "code",
   "execution_count": null,
   "id": "d063eecb-fd29-48b3-9e00-45599925680f",
   "metadata": {},
   "outputs": [],
   "source": []
  }
 ],
 "metadata": {
  "kernelspec": {
   "display_name": "Python (dl1)",
   "language": "python",
   "name": "dl1"
  },
  "language_info": {
   "codemirror_mode": {
    "name": "ipython",
    "version": 3
   },
   "file_extension": ".py",
   "mimetype": "text/x-python",
   "name": "python",
   "nbconvert_exporter": "python",
   "pygments_lexer": "ipython3",
   "version": "3.11.7"
  }
 },
 "nbformat": 4,
 "nbformat_minor": 5
}
